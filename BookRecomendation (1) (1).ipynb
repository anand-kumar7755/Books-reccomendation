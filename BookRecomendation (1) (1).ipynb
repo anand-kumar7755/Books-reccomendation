{
 "cells": [
  {
   "cell_type": "markdown",
   "id": "c330c1f0",
   "metadata": {},
   "source": [
    "# Project Title : Book Recommendation"
   ]
  },
  {
   "cell_type": "markdown",
   "id": "1538eb81",
   "metadata": {},
   "source": [
    "# Business Objective:\n",
    "\n",
    "## Generate the features from the dataset and use them to recommend the books accordingly to the users.\n"
   ]
  },
  {
   "cell_type": "markdown",
   "id": "80f8888c",
   "metadata": {},
   "source": [
    "# Content\n",
    "\n",
    "## The Book-Crossing dataset comprises 3 files.\n",
    "\n",
    "### •\tUsers\n",
    "Contains the users. Note that user IDs (User-ID) have been anonymized and map to integers. Demographic data is provided (Location, Age) if available. Otherwise, these fields contain NULL-values.\n",
    "\n",
    "### •\tBooks\n",
    "Books are identified by their respective ISBN. Invalid ISBNs have already been removed from the dataset. Moreover, some content-based information is given (Book-Title, Book-Author, Year-Of-Publication, Publisher), obtained from Amazon Web Services. Note that in case of several authors, only the first is provided. URLs linking to cover images are also given, appearing in three different flavours (Image-URL-S, Image-URL-M, Image-URL-L), i.e., small, medium, large. These URLs point to the Amazon web site.\n",
    "\n",
    "### •\tRatings\n",
    "Contains the book rating information. Ratings (Book-Rating) are either explicit, expressed on a scale from 1-10 (higher values denoting higher appreciation), or implicit, expressed by 0.\n"
   ]
  },
  {
   "cell_type": "code",
   "execution_count": 1,
   "id": "junior-geography",
   "metadata": {
    "ExecuteTime": {
     "end_time": "2022-12-01T06:16:56.821832Z",
     "start_time": "2022-12-01T06:16:53.735004Z"
    },
    "_cell_guid": "b1076dfc-b9ad-4769-8c92-a6c4dae69d19",
    "_uuid": "8f2839f25d086af736a60e9eeb907d3b93b6e0e5",
    "execution": {
     "iopub.execute_input": "2021-06-22T07:07:50.819336Z",
     "iopub.status.busy": "2021-06-22T07:07:50.818679Z",
     "iopub.status.idle": "2021-06-22T07:07:53.135463Z",
     "shell.execute_reply": "2021-06-22T07:07:53.134708Z",
     "shell.execute_reply.started": "2021-06-22T06:40:59.126371Z"
    },
    "papermill": {
     "duration": 2.35314,
     "end_time": "2021-06-22T07:07:53.135655",
     "exception": false,
     "start_time": "2021-06-22T07:07:50.782515",
     "status": "completed"
    },
    "tags": []
   },
   "outputs": [],
   "source": [
    "import numpy as np \n",
    "import pandas as pd \n",
    "import matplotlib.pyplot as plt\n",
    "import seaborn as sns"
   ]
  },
  {
   "cell_type": "code",
   "execution_count": 2,
   "id": "neither-government",
   "metadata": {
    "ExecuteTime": {
     "end_time": "2022-12-01T06:16:59.882925Z",
     "start_time": "2022-12-01T06:16:56.825828Z"
    },
    "execution": {
     "iopub.execute_input": "2021-06-22T07:07:53.194725Z",
     "iopub.status.busy": "2021-06-22T07:07:53.194010Z",
     "iopub.status.idle": "2021-06-22T07:07:57.356928Z",
     "shell.execute_reply": "2021-06-22T07:07:57.355937Z",
     "shell.execute_reply.started": "2021-06-22T06:41:00.353724Z"
    },
    "papermill": {
     "duration": 4.194491,
     "end_time": "2021-06-22T07:07:57.357100",
     "exception": false,
     "start_time": "2021-06-22T07:07:53.162609",
     "status": "completed"
    },
    "tags": []
   },
   "outputs": [],
   "source": [
    "ratings = pd.read_csv('Ratings.csv', low_memory=False)\n",
    "users = pd.read_csv('Users.csv', low_memory=False)\n",
    "books = pd.read_csv('Books.csv', low_memory=False)"
   ]
  },
  {
   "cell_type": "markdown",
   "id": "39bbca72",
   "metadata": {},
   "source": [
    "#### Books data"
   ]
  },
  {
   "cell_type": "code",
   "execution_count": 3,
   "id": "368fbf0d",
   "metadata": {
    "ExecuteTime": {
     "end_time": "2022-12-01T06:17:01.578890Z",
     "start_time": "2022-12-01T06:17:01.536969Z"
    }
   },
   "outputs": [
    {
     "data": {
      "text/html": [
       "<div>\n",
       "<style scoped>\n",
       "    .dataframe tbody tr th:only-of-type {\n",
       "        vertical-align: middle;\n",
       "    }\n",
       "\n",
       "    .dataframe tbody tr th {\n",
       "        vertical-align: top;\n",
       "    }\n",
       "\n",
       "    .dataframe thead th {\n",
       "        text-align: right;\n",
       "    }\n",
       "</style>\n",
       "<table border=\"1\" class=\"dataframe\">\n",
       "  <thead>\n",
       "    <tr style=\"text-align: right;\">\n",
       "      <th></th>\n",
       "      <th>ISBN</th>\n",
       "      <th>Book-Title</th>\n",
       "      <th>Book-Author</th>\n",
       "      <th>Year-Of-Publication</th>\n",
       "      <th>Publisher</th>\n",
       "      <th>Image-URL-S</th>\n",
       "      <th>Image-URL-M</th>\n",
       "      <th>Image-URL-L</th>\n",
       "    </tr>\n",
       "  </thead>\n",
       "  <tbody>\n",
       "    <tr>\n",
       "      <th>0</th>\n",
       "      <td>0195153448</td>\n",
       "      <td>Classical Mythology</td>\n",
       "      <td>Mark P. O. Morford</td>\n",
       "      <td>2002</td>\n",
       "      <td>Oxford University Press</td>\n",
       "      <td>http://images.amazon.com/images/P/0195153448.0...</td>\n",
       "      <td>http://images.amazon.com/images/P/0195153448.0...</td>\n",
       "      <td>http://images.amazon.com/images/P/0195153448.0...</td>\n",
       "    </tr>\n",
       "    <tr>\n",
       "      <th>1</th>\n",
       "      <td>0002005018</td>\n",
       "      <td>Clara Callan</td>\n",
       "      <td>Richard Bruce Wright</td>\n",
       "      <td>2001</td>\n",
       "      <td>HarperFlamingo Canada</td>\n",
       "      <td>http://images.amazon.com/images/P/0002005018.0...</td>\n",
       "      <td>http://images.amazon.com/images/P/0002005018.0...</td>\n",
       "      <td>http://images.amazon.com/images/P/0002005018.0...</td>\n",
       "    </tr>\n",
       "    <tr>\n",
       "      <th>2</th>\n",
       "      <td>0060973129</td>\n",
       "      <td>Decision in Normandy</td>\n",
       "      <td>Carlo D'Este</td>\n",
       "      <td>1991</td>\n",
       "      <td>HarperPerennial</td>\n",
       "      <td>http://images.amazon.com/images/P/0060973129.0...</td>\n",
       "      <td>http://images.amazon.com/images/P/0060973129.0...</td>\n",
       "      <td>http://images.amazon.com/images/P/0060973129.0...</td>\n",
       "    </tr>\n",
       "    <tr>\n",
       "      <th>3</th>\n",
       "      <td>0374157065</td>\n",
       "      <td>Flu: The Story of the Great Influenza Pandemic...</td>\n",
       "      <td>Gina Bari Kolata</td>\n",
       "      <td>1999</td>\n",
       "      <td>Farrar Straus Giroux</td>\n",
       "      <td>http://images.amazon.com/images/P/0374157065.0...</td>\n",
       "      <td>http://images.amazon.com/images/P/0374157065.0...</td>\n",
       "      <td>http://images.amazon.com/images/P/0374157065.0...</td>\n",
       "    </tr>\n",
       "    <tr>\n",
       "      <th>4</th>\n",
       "      <td>0393045218</td>\n",
       "      <td>The Mummies of Urumchi</td>\n",
       "      <td>E. J. W. Barber</td>\n",
       "      <td>1999</td>\n",
       "      <td>W. W. Norton &amp;amp; Company</td>\n",
       "      <td>http://images.amazon.com/images/P/0393045218.0...</td>\n",
       "      <td>http://images.amazon.com/images/P/0393045218.0...</td>\n",
       "      <td>http://images.amazon.com/images/P/0393045218.0...</td>\n",
       "    </tr>\n",
       "  </tbody>\n",
       "</table>\n",
       "</div>"
      ],
      "text/plain": [
       "         ISBN                                         Book-Title  \\\n",
       "0  0195153448                                Classical Mythology   \n",
       "1  0002005018                                       Clara Callan   \n",
       "2  0060973129                               Decision in Normandy   \n",
       "3  0374157065  Flu: The Story of the Great Influenza Pandemic...   \n",
       "4  0393045218                             The Mummies of Urumchi   \n",
       "\n",
       "            Book-Author Year-Of-Publication                   Publisher  \\\n",
       "0    Mark P. O. Morford                2002     Oxford University Press   \n",
       "1  Richard Bruce Wright                2001       HarperFlamingo Canada   \n",
       "2          Carlo D'Este                1991             HarperPerennial   \n",
       "3      Gina Bari Kolata                1999        Farrar Straus Giroux   \n",
       "4       E. J. W. Barber                1999  W. W. Norton &amp; Company   \n",
       "\n",
       "                                         Image-URL-S  \\\n",
       "0  http://images.amazon.com/images/P/0195153448.0...   \n",
       "1  http://images.amazon.com/images/P/0002005018.0...   \n",
       "2  http://images.amazon.com/images/P/0060973129.0...   \n",
       "3  http://images.amazon.com/images/P/0374157065.0...   \n",
       "4  http://images.amazon.com/images/P/0393045218.0...   \n",
       "\n",
       "                                         Image-URL-M  \\\n",
       "0  http://images.amazon.com/images/P/0195153448.0...   \n",
       "1  http://images.amazon.com/images/P/0002005018.0...   \n",
       "2  http://images.amazon.com/images/P/0060973129.0...   \n",
       "3  http://images.amazon.com/images/P/0374157065.0...   \n",
       "4  http://images.amazon.com/images/P/0393045218.0...   \n",
       "\n",
       "                                         Image-URL-L  \n",
       "0  http://images.amazon.com/images/P/0195153448.0...  \n",
       "1  http://images.amazon.com/images/P/0002005018.0...  \n",
       "2  http://images.amazon.com/images/P/0060973129.0...  \n",
       "3  http://images.amazon.com/images/P/0374157065.0...  \n",
       "4  http://images.amazon.com/images/P/0393045218.0...  "
      ]
     },
     "execution_count": 3,
     "metadata": {},
     "output_type": "execute_result"
    }
   ],
   "source": [
    "books.head()"
   ]
  },
  {
   "cell_type": "code",
   "execution_count": 4,
   "id": "2ce15414",
   "metadata": {
    "ExecuteTime": {
     "end_time": "2022-12-01T06:17:02.079960Z",
     "start_time": "2022-12-01T06:17:02.062007Z"
    }
   },
   "outputs": [
    {
     "name": "stdout",
     "output_type": "stream",
     "text": [
      "No. of observations:271360\n",
      "No. of parameters:8\n"
     ]
    }
   ],
   "source": [
    "print(\"No. of observations:{}\\nNo. of parameters:{}\".format(books.shape[0],books.shape[1]))"
   ]
  },
  {
   "cell_type": "code",
   "execution_count": 5,
   "id": "ce3ce249",
   "metadata": {
    "ExecuteTime": {
     "end_time": "2022-12-01T06:17:02.659808Z",
     "start_time": "2022-12-01T06:17:02.293996Z"
    }
   },
   "outputs": [
    {
     "data": {
      "text/plain": [
       "ISBN                   0\n",
       "Book-Title             0\n",
       "Book-Author            1\n",
       "Year-Of-Publication    0\n",
       "Publisher              2\n",
       "Image-URL-S            0\n",
       "Image-URL-M            0\n",
       "Image-URL-L            3\n",
       "dtype: int64"
      ]
     },
     "execution_count": 5,
     "metadata": {},
     "output_type": "execute_result"
    }
   ],
   "source": [
    "books.isnull().sum()"
   ]
  },
  {
   "cell_type": "code",
   "execution_count": 6,
   "id": "ecb11f4c",
   "metadata": {
    "ExecuteTime": {
     "end_time": "2022-12-01T06:17:02.753397Z",
     "start_time": "2022-12-01T06:17:02.742425Z"
    }
   },
   "outputs": [
    {
     "data": {
      "text/plain": [
       "ISBN                   object\n",
       "Book-Title             object\n",
       "Book-Author            object\n",
       "Year-Of-Publication    object\n",
       "Publisher              object\n",
       "Image-URL-S            object\n",
       "Image-URL-M            object\n",
       "Image-URL-L            object\n",
       "dtype: object"
      ]
     },
     "execution_count": 6,
     "metadata": {},
     "output_type": "execute_result"
    }
   ],
   "source": [
    "books.dtypes"
   ]
  },
  {
   "cell_type": "code",
   "execution_count": 7,
   "id": "b7c63924",
   "metadata": {
    "ExecuteTime": {
     "end_time": "2022-12-01T06:17:03.853487Z",
     "start_time": "2022-12-01T06:17:03.046994Z"
    }
   },
   "outputs": [
    {
     "data": {
      "text/plain": [
       "0"
      ]
     },
     "execution_count": 7,
     "metadata": {},
     "output_type": "execute_result"
    }
   ],
   "source": [
    "books.duplicated().sum()"
   ]
  },
  {
   "cell_type": "code",
   "execution_count": 8,
   "id": "c5af35c0",
   "metadata": {
    "ExecuteTime": {
     "end_time": "2022-12-01T06:17:03.885433Z",
     "start_time": "2022-12-01T06:17:03.856480Z"
    }
   },
   "outputs": [
    {
     "data": {
      "text/plain": [
       "array(['2002', '2001', '1991', '1999', '2000', '1993', '1996', '1988',\n",
       "       '2004', '1998', '1994', '2003', '1997', '1983', '1979', '1995',\n",
       "       '1982', '1985', '1992', '1986', '1978', '1980', '1952', '1987',\n",
       "       '1990', '1981', '1989', '1984', '0', '1968', '1961', '1958',\n",
       "       '1974', '1976', '1971', '1977', '1975', '1965', '1941', '1970',\n",
       "       '1962', '1973', '1972', '1960', '1966', '1920', '1956', '1959',\n",
       "       '1953', '1951', '1942', '1963', '1964', '1969', '1954', '1950',\n",
       "       '1967', '2005', '1957', '1940', '1937', '1955', '1946', '1936',\n",
       "       '1930', '2011', '1925', '1948', '1943', '1947', '1945', '1923',\n",
       "       '2020', '1939', '1926', '1938', '2030', '1911', '1904', '1949',\n",
       "       '1932', '1928', '1929', '1927', '1931', '1914', '2050', '1934',\n",
       "       '1910', '1933', '1902', '1924', '1921', '1900', '2038', '2026',\n",
       "       '1944', '1917', '1901', '2010', '1908', '1906', '1935', '1806',\n",
       "       '2021', '2012', '2006', 'DK Publishing Inc', 'Gallimard', '1909',\n",
       "       '2008', '1378', '1919', '1922', '1897', '2024', '1376', '2037'],\n",
       "      dtype=object)"
      ]
     },
     "execution_count": 8,
     "metadata": {},
     "output_type": "execute_result"
    }
   ],
   "source": [
    "books['Year-Of-Publication'].unique()"
   ]
  },
  {
   "cell_type": "code",
   "execution_count": 9,
   "id": "2bd16cce",
   "metadata": {
    "ExecuteTime": {
     "end_time": "2022-12-01T06:17:04.138890Z",
     "start_time": "2022-12-01T06:17:03.887397Z"
    }
   },
   "outputs": [
    {
     "data": {
      "text/plain": [
       "3"
      ]
     },
     "execution_count": 9,
     "metadata": {},
     "output_type": "execute_result"
    }
   ],
   "source": [
    "#since year data has some object it it, we shall convert it into null data\n",
    "books['Year-Of-Publication'] = pd.to_numeric(books['Year-Of-Publication'],errors='coerce')\n",
    "books['Year-Of-Publication'].isna().sum()"
   ]
  },
  {
   "cell_type": "code",
   "execution_count": 10,
   "id": "7c1bf0bb",
   "metadata": {
    "ExecuteTime": {
     "end_time": "2022-12-01T06:17:04.186860Z",
     "start_time": "2022-12-01T06:17:04.141884Z"
    }
   },
   "outputs": [
    {
     "data": {
      "text/plain": [
       "3"
      ]
     },
     "execution_count": 10,
     "metadata": {},
     "output_type": "execute_result"
    }
   ],
   "source": [
    "#since year data has the year 0 and 2022 which is invalid, we shall convert it into null data\n",
    "books.loc[(books['Year-Of-Publication'] > 2022) | (books['Year-Of-Publication'] == 0), 'year'] = np.NAN\n",
    "#Replacing null data with median \n",
    "books['Year-Of-Publication'].fillna(books['year'].median() , inplace = True)\n",
    "books['Year-Of-Publication'].isna().sum()"
   ]
  },
  {
   "cell_type": "code",
   "execution_count": 11,
   "id": "4799e215",
   "metadata": {
    "ExecuteTime": {
     "end_time": "2022-12-01T06:17:04.407358Z",
     "start_time": "2022-12-01T06:17:04.345520Z"
    }
   },
   "outputs": [
    {
     "data": {
      "text/html": [
       "<div>\n",
       "<style scoped>\n",
       "    .dataframe tbody tr th:only-of-type {\n",
       "        vertical-align: middle;\n",
       "    }\n",
       "\n",
       "    .dataframe tbody tr th {\n",
       "        vertical-align: top;\n",
       "    }\n",
       "\n",
       "    .dataframe thead th {\n",
       "        text-align: right;\n",
       "    }\n",
       "</style>\n",
       "<table border=\"1\" class=\"dataframe\">\n",
       "  <thead>\n",
       "    <tr style=\"text-align: right;\">\n",
       "      <th></th>\n",
       "      <th>ISBN</th>\n",
       "      <th>Book-Title</th>\n",
       "      <th>Book-Author</th>\n",
       "      <th>Year-Of-Publication</th>\n",
       "      <th>Publisher</th>\n",
       "      <th>Image-URL-S</th>\n",
       "      <th>Image-URL-M</th>\n",
       "      <th>Image-URL-L</th>\n",
       "      <th>year</th>\n",
       "    </tr>\n",
       "  </thead>\n",
       "  <tbody>\n",
       "    <tr>\n",
       "      <th>128890</th>\n",
       "      <td>193169656X</td>\n",
       "      <td>Tyrant Moon</td>\n",
       "      <td>Elaine Corvidae</td>\n",
       "      <td>2002.0</td>\n",
       "      <td>NaN</td>\n",
       "      <td>http://images.amazon.com/images/P/193169656X.0...</td>\n",
       "      <td>http://images.amazon.com/images/P/193169656X.0...</td>\n",
       "      <td>http://images.amazon.com/images/P/193169656X.0...</td>\n",
       "      <td>NaN</td>\n",
       "    </tr>\n",
       "    <tr>\n",
       "      <th>129037</th>\n",
       "      <td>1931696993</td>\n",
       "      <td>Finders Keepers</td>\n",
       "      <td>Linnea Sinclair</td>\n",
       "      <td>2001.0</td>\n",
       "      <td>NaN</td>\n",
       "      <td>http://images.amazon.com/images/P/1931696993.0...</td>\n",
       "      <td>http://images.amazon.com/images/P/1931696993.0...</td>\n",
       "      <td>http://images.amazon.com/images/P/1931696993.0...</td>\n",
       "      <td>NaN</td>\n",
       "    </tr>\n",
       "  </tbody>\n",
       "</table>\n",
       "</div>"
      ],
      "text/plain": [
       "              ISBN       Book-Title      Book-Author  Year-Of-Publication  \\\n",
       "128890  193169656X      Tyrant Moon  Elaine Corvidae               2002.0   \n",
       "129037  1931696993  Finders Keepers  Linnea Sinclair               2001.0   \n",
       "\n",
       "       Publisher                                        Image-URL-S  \\\n",
       "128890       NaN  http://images.amazon.com/images/P/193169656X.0...   \n",
       "129037       NaN  http://images.amazon.com/images/P/1931696993.0...   \n",
       "\n",
       "                                              Image-URL-M  \\\n",
       "128890  http://images.amazon.com/images/P/193169656X.0...   \n",
       "129037  http://images.amazon.com/images/P/1931696993.0...   \n",
       "\n",
       "                                              Image-URL-L  year  \n",
       "128890  http://images.amazon.com/images/P/193169656X.0...   NaN  \n",
       "129037  http://images.amazon.com/images/P/1931696993.0...   NaN  "
      ]
     },
     "execution_count": 11,
     "metadata": {},
     "output_type": "execute_result"
    }
   ],
   "source": [
    "#Finding and replacing null data from publisher\n",
    "books.loc[books['Publisher'].isna()]"
   ]
  },
  {
   "cell_type": "code",
   "execution_count": 12,
   "id": "42667e59",
   "metadata": {
    "ExecuteTime": {
     "end_time": "2022-12-01T06:17:04.644641Z",
     "start_time": "2022-12-01T06:17:04.592782Z"
    }
   },
   "outputs": [
    {
     "data": {
      "text/plain": [
       "0"
      ]
     },
     "execution_count": 12,
     "metadata": {},
     "output_type": "execute_result"
    }
   ],
   "source": [
    "#Replacing null data from publisher\n",
    "books['Publisher'].fillna('other' , inplace = True)\n",
    "books['Publisher'].isna().sum()"
   ]
  },
  {
   "cell_type": "code",
   "execution_count": 13,
   "id": "3acffffd",
   "metadata": {
    "ExecuteTime": {
     "end_time": "2022-12-01T06:17:04.926799Z",
     "start_time": "2022-12-01T06:17:04.875909Z"
    }
   },
   "outputs": [
    {
     "data": {
      "text/html": [
       "<div>\n",
       "<style scoped>\n",
       "    .dataframe tbody tr th:only-of-type {\n",
       "        vertical-align: middle;\n",
       "    }\n",
       "\n",
       "    .dataframe tbody tr th {\n",
       "        vertical-align: top;\n",
       "    }\n",
       "\n",
       "    .dataframe thead th {\n",
       "        text-align: right;\n",
       "    }\n",
       "</style>\n",
       "<table border=\"1\" class=\"dataframe\">\n",
       "  <thead>\n",
       "    <tr style=\"text-align: right;\">\n",
       "      <th></th>\n",
       "      <th>ISBN</th>\n",
       "      <th>Book-Title</th>\n",
       "      <th>Book-Author</th>\n",
       "      <th>Year-Of-Publication</th>\n",
       "      <th>Publisher</th>\n",
       "      <th>Image-URL-S</th>\n",
       "      <th>Image-URL-M</th>\n",
       "      <th>Image-URL-L</th>\n",
       "      <th>year</th>\n",
       "    </tr>\n",
       "  </thead>\n",
       "  <tbody>\n",
       "    <tr>\n",
       "      <th>187689</th>\n",
       "      <td>9627982032</td>\n",
       "      <td>The Credit Suisse Guide to Managing Your Perso...</td>\n",
       "      <td>NaN</td>\n",
       "      <td>1995.0</td>\n",
       "      <td>Edinburgh Financial Publishing</td>\n",
       "      <td>http://images.amazon.com/images/P/9627982032.0...</td>\n",
       "      <td>http://images.amazon.com/images/P/9627982032.0...</td>\n",
       "      <td>http://images.amazon.com/images/P/9627982032.0...</td>\n",
       "      <td>NaN</td>\n",
       "    </tr>\n",
       "  </tbody>\n",
       "</table>\n",
       "</div>"
      ],
      "text/plain": [
       "              ISBN                                         Book-Title  \\\n",
       "187689  9627982032  The Credit Suisse Guide to Managing Your Perso...   \n",
       "\n",
       "       Book-Author  Year-Of-Publication                       Publisher  \\\n",
       "187689         NaN               1995.0  Edinburgh Financial Publishing   \n",
       "\n",
       "                                              Image-URL-S  \\\n",
       "187689  http://images.amazon.com/images/P/9627982032.0...   \n",
       "\n",
       "                                              Image-URL-M  \\\n",
       "187689  http://images.amazon.com/images/P/9627982032.0...   \n",
       "\n",
       "                                              Image-URL-L  year  \n",
       "187689  http://images.amazon.com/images/P/9627982032.0...   NaN  "
      ]
     },
     "execution_count": 13,
     "metadata": {},
     "output_type": "execute_result"
    }
   ],
   "source": [
    "#Finding and replacing null data from author\n",
    "books.loc[books['Book-Author'].isna()]"
   ]
  },
  {
   "cell_type": "code",
   "execution_count": 14,
   "id": "d6669608",
   "metadata": {
    "ExecuteTime": {
     "end_time": "2022-12-01T06:17:05.193521Z",
     "start_time": "2022-12-01T06:17:05.121002Z"
    }
   },
   "outputs": [
    {
     "data": {
      "text/plain": [
       "0"
      ]
     },
     "execution_count": 14,
     "metadata": {},
     "output_type": "execute_result"
    }
   ],
   "source": [
    "#replacing null data from publisher\n",
    "books['Book-Author'].fillna(\"Unknown\" , inplace = True)\n",
    "books['Book-Author'].isna().sum()"
   ]
  },
  {
   "cell_type": "markdown",
   "id": "85625665",
   "metadata": {},
   "source": [
    "#### User data"
   ]
  },
  {
   "cell_type": "code",
   "execution_count": 15,
   "id": "bd0c22a4",
   "metadata": {
    "ExecuteTime": {
     "end_time": "2022-12-01T06:17:05.600957Z",
     "start_time": "2022-12-01T06:17:05.583003Z"
    }
   },
   "outputs": [
    {
     "data": {
      "text/html": [
       "<div>\n",
       "<style scoped>\n",
       "    .dataframe tbody tr th:only-of-type {\n",
       "        vertical-align: middle;\n",
       "    }\n",
       "\n",
       "    .dataframe tbody tr th {\n",
       "        vertical-align: top;\n",
       "    }\n",
       "\n",
       "    .dataframe thead th {\n",
       "        text-align: right;\n",
       "    }\n",
       "</style>\n",
       "<table border=\"1\" class=\"dataframe\">\n",
       "  <thead>\n",
       "    <tr style=\"text-align: right;\">\n",
       "      <th></th>\n",
       "      <th>User-ID</th>\n",
       "      <th>Location</th>\n",
       "      <th>Age</th>\n",
       "    </tr>\n",
       "  </thead>\n",
       "  <tbody>\n",
       "    <tr>\n",
       "      <th>0</th>\n",
       "      <td>1</td>\n",
       "      <td>nyc, new york, usa</td>\n",
       "      <td>NaN</td>\n",
       "    </tr>\n",
       "    <tr>\n",
       "      <th>1</th>\n",
       "      <td>2</td>\n",
       "      <td>stockton, california, usa</td>\n",
       "      <td>18.0</td>\n",
       "    </tr>\n",
       "    <tr>\n",
       "      <th>2</th>\n",
       "      <td>3</td>\n",
       "      <td>moscow, yukon territory, russia</td>\n",
       "      <td>NaN</td>\n",
       "    </tr>\n",
       "    <tr>\n",
       "      <th>3</th>\n",
       "      <td>4</td>\n",
       "      <td>porto, v.n.gaia, portugal</td>\n",
       "      <td>17.0</td>\n",
       "    </tr>\n",
       "    <tr>\n",
       "      <th>4</th>\n",
       "      <td>5</td>\n",
       "      <td>farnborough, hants, united kingdom</td>\n",
       "      <td>NaN</td>\n",
       "    </tr>\n",
       "  </tbody>\n",
       "</table>\n",
       "</div>"
      ],
      "text/plain": [
       "   User-ID                            Location   Age\n",
       "0        1                  nyc, new york, usa   NaN\n",
       "1        2           stockton, california, usa  18.0\n",
       "2        3     moscow, yukon territory, russia   NaN\n",
       "3        4           porto, v.n.gaia, portugal  17.0\n",
       "4        5  farnborough, hants, united kingdom   NaN"
      ]
     },
     "execution_count": 15,
     "metadata": {},
     "output_type": "execute_result"
    }
   ],
   "source": [
    "users.head()"
   ]
  },
  {
   "cell_type": "code",
   "execution_count": 16,
   "id": "ca540149",
   "metadata": {
    "ExecuteTime": {
     "end_time": "2022-12-01T06:17:05.865955Z",
     "start_time": "2022-12-01T06:17:05.774250Z"
    }
   },
   "outputs": [
    {
     "data": {
      "text/plain": [
       "User-ID          0\n",
       "Location         0\n",
       "Age         110762\n",
       "dtype: int64"
      ]
     },
     "execution_count": 16,
     "metadata": {},
     "output_type": "execute_result"
    }
   ],
   "source": [
    "users.isna().sum()"
   ]
  },
  {
   "cell_type": "code",
   "execution_count": 17,
   "id": "45876225",
   "metadata": {
    "ExecuteTime": {
     "end_time": "2022-12-01T06:17:06.412659Z",
     "start_time": "2022-12-01T06:17:06.042240Z"
    }
   },
   "outputs": [
    {
     "data": {
      "text/plain": [
       "<AxesSubplot:xlabel='Age'>"
      ]
     },
     "execution_count": 17,
     "metadata": {},
     "output_type": "execute_result"
    },
    {
     "data": {
      "image/png": "[encoded data removed]",
      "text/plain": [
       "<Figure size 432x288 with 1 Axes>"
      ]
     },
     "metadata": {},
     "output_type": "display_data"
    }
   ],
   "source": [
    "sns.set(style=\"whitegrid\")\n",
    "sns.boxplot(x='Age',data=users)"
   ]
  },
  {
   "cell_type": "code",
   "execution_count": 18,
   "id": "78eb0463",
   "metadata": {
    "ExecuteTime": {
     "end_time": "2022-12-01T06:17:06.442580Z",
     "start_time": "2022-12-01T06:17:06.416651Z"
    }
   },
   "outputs": [
    {
     "name": "stdout",
     "output_type": "stream",
     "text": [
      "[nan, 0.0, 1.0, 2.0, 3.0, 4.0, 5.0, 6.0, 7.0, 8.0, 9.0, 10.0, 11.0, 12.0, 13.0, 14.0, 15.0, 16.0, 17.0, 18.0, 19.0, 20.0, 21.0, 22.0, 23.0, 24.0, 25.0, 26.0, 27.0, 28.0, 29.0, 30.0, 31.0, 32.0, 33.0, 34.0, 35.0, 36.0, 37.0, 38.0, 39.0, 40.0, 41.0, 42.0, 43.0, 44.0, 45.0, 46.0, 47.0, 48.0, 49.0, 50.0, 51.0, 52.0, 53.0, 54.0, 55.0, 56.0, 57.0, 58.0, 59.0, 60.0, 61.0, 62.0, 63.0, 64.0, 65.0, 66.0, 67.0, 68.0, 69.0, 70.0, 71.0, 72.0, 73.0, 74.0, 75.0, 76.0, 77.0, 78.0, 79.0, 80.0, 81.0, 82.0, 83.0, 84.0, 85.0, 86.0, 87.0, 88.0, 89.0, 90.0, 91.0, 92.0, 93.0, 94.0, 95.0, 96.0, 97.0, 98.0, 99.0, 100.0, 101.0, 102.0, 103.0, 104.0, 105.0, 106.0, 107.0, 108.0, 109.0, 110.0, 111.0, 113.0, 114.0, 115.0, 116.0, 118.0, 119.0, 123.0, 124.0, 127.0, 128.0, 132.0, 133.0, 136.0, 137.0, 138.0, 140.0, 141.0, 143.0, 146.0, 147.0, 148.0, 151.0, 152.0, 156.0, 157.0, 159.0, 162.0, 168.0, 172.0, 175.0, 183.0, 186.0, 189.0, 199.0, 200.0, 201.0, 204.0, 207.0, 208.0, 209.0, 210.0, 212.0, 219.0, 220.0, 223.0, 226.0, 228.0, 229.0, 230.0, 231.0, 237.0, 239.0, 244.0]\n"
     ]
    }
   ],
   "source": [
    "print(sorted(users['Age'].unique()))"
   ]
  },
  {
   "cell_type": "code",
   "execution_count": 19,
   "id": "93098a76",
   "metadata": {
    "ExecuteTime": {
     "end_time": "2022-12-01T06:17:06.490454Z",
     "start_time": "2022-12-01T06:17:06.474523Z"
    }
   },
   "outputs": [],
   "source": [
    "#removing age above 100 and below 5 \n",
    "users.loc[(users['Age'] > 100) | (users['Age'] < 5) , 'Age' ] = np.NAN"
   ]
  },
  {
   "cell_type": "code",
   "execution_count": 20,
   "id": "47c2509e",
   "metadata": {
    "ExecuteTime": {
     "end_time": "2022-12-01T06:17:06.709661Z",
     "start_time": "2022-12-01T06:17:06.688717Z"
    }
   },
   "outputs": [
    {
     "data": {
      "text/plain": [
       "112010"
      ]
     },
     "execution_count": 20,
     "metadata": {},
     "output_type": "execute_result"
    }
   ],
   "source": [
    "users['Age'].isna().sum()"
   ]
  },
  {
   "cell_type": "code",
   "execution_count": 21,
   "id": "07b6339c",
   "metadata": {
    "ExecuteTime": {
     "end_time": "2022-12-01T06:17:06.899886Z",
     "start_time": "2022-12-01T06:17:06.888893Z"
    }
   },
   "outputs": [],
   "source": [
    "#Filling the null values with mean\n",
    "users['Age'].fillna(users['Age'].mean(), inplace = True)"
   ]
  },
  {
   "cell_type": "code",
   "execution_count": 22,
   "id": "9eb4944e",
   "metadata": {
    "ExecuteTime": {
     "end_time": "2022-12-01T06:17:07.260521Z",
     "start_time": "2022-12-01T06:17:07.104937Z"
    }
   },
   "outputs": [
    {
     "data": {
      "text/plain": [
       "0"
      ]
     },
     "execution_count": 22,
     "metadata": {},
     "output_type": "execute_result"
    }
   ],
   "source": [
    "users.duplicated().sum()"
   ]
  },
  {
   "cell_type": "markdown",
   "id": "aa925bca",
   "metadata": {},
   "source": [
    "#### Rating data"
   ]
  },
  {
   "cell_type": "code",
   "execution_count": 23,
   "id": "95f472a3",
   "metadata": {
    "ExecuteTime": {
     "end_time": "2022-12-01T06:17:07.965940Z",
     "start_time": "2022-12-01T06:17:07.942026Z"
    }
   },
   "outputs": [
    {
     "data": {
      "text/html": [
       "<div>\n",
       "<style scoped>\n",
       "    .dataframe tbody tr th:only-of-type {\n",
       "        vertical-align: middle;\n",
       "    }\n",
       "\n",
       "    .dataframe tbody tr th {\n",
       "        vertical-align: top;\n",
       "    }\n",
       "\n",
       "    .dataframe thead th {\n",
       "        text-align: right;\n",
       "    }\n",
       "</style>\n",
       "<table border=\"1\" class=\"dataframe\">\n",
       "  <thead>\n",
       "    <tr style=\"text-align: right;\">\n",
       "      <th></th>\n",
       "      <th>User-ID</th>\n",
       "      <th>ISBN</th>\n",
       "      <th>Book-Rating</th>\n",
       "    </tr>\n",
       "  </thead>\n",
       "  <tbody>\n",
       "    <tr>\n",
       "      <th>0</th>\n",
       "      <td>276725</td>\n",
       "      <td>034545104X</td>\n",
       "      <td>0</td>\n",
       "    </tr>\n",
       "    <tr>\n",
       "      <th>1</th>\n",
       "      <td>276726</td>\n",
       "      <td>0155061224</td>\n",
       "      <td>5</td>\n",
       "    </tr>\n",
       "    <tr>\n",
       "      <th>2</th>\n",
       "      <td>276727</td>\n",
       "      <td>0446520802</td>\n",
       "      <td>0</td>\n",
       "    </tr>\n",
       "    <tr>\n",
       "      <th>3</th>\n",
       "      <td>276729</td>\n",
       "      <td>052165615X</td>\n",
       "      <td>3</td>\n",
       "    </tr>\n",
       "    <tr>\n",
       "      <th>4</th>\n",
       "      <td>276729</td>\n",
       "      <td>0521795028</td>\n",
       "      <td>6</td>\n",
       "    </tr>\n",
       "  </tbody>\n",
       "</table>\n",
       "</div>"
      ],
      "text/plain": [
       "   User-ID        ISBN  Book-Rating\n",
       "0   276725  034545104X            0\n",
       "1   276726  0155061224            5\n",
       "2   276727  0446520802            0\n",
       "3   276729  052165615X            3\n",
       "4   276729  0521795028            6"
      ]
     },
     "execution_count": 23,
     "metadata": {},
     "output_type": "execute_result"
    }
   ],
   "source": [
    "ratings.head()"
   ]
  },
  {
   "cell_type": "code",
   "execution_count": 24,
   "id": "00cda617",
   "metadata": {
    "ExecuteTime": {
     "end_time": "2022-12-01T06:17:08.246961Z",
     "start_time": "2022-12-01T06:17:08.230006Z"
    }
   },
   "outputs": [
    {
     "data": {
      "text/plain": [
       "(1149780, 3)"
      ]
     },
     "execution_count": 24,
     "metadata": {},
     "output_type": "execute_result"
    }
   ],
   "source": [
    "ratings.shape"
   ]
  },
  {
   "cell_type": "code",
   "execution_count": 25,
   "id": "21871ea7",
   "metadata": {
    "ExecuteTime": {
     "end_time": "2022-12-01T06:17:08.822225Z",
     "start_time": "2022-12-01T06:17:08.535992Z"
    }
   },
   "outputs": [
    {
     "data": {
      "text/plain": [
       "User-ID        0\n",
       "ISBN           0\n",
       "Book-Rating    0\n",
       "dtype: int64"
      ]
     },
     "execution_count": 25,
     "metadata": {},
     "output_type": "execute_result"
    }
   ],
   "source": [
    "ratings.isna().sum()"
   ]
  },
  {
   "cell_type": "code",
   "execution_count": 26,
   "id": "3443ab98",
   "metadata": {
    "ExecuteTime": {
     "end_time": "2022-12-01T06:17:09.452541Z",
     "start_time": "2022-12-01T06:17:08.825219Z"
    }
   },
   "outputs": [
    {
     "data": {
      "text/plain": [
       "0"
      ]
     },
     "execution_count": 26,
     "metadata": {},
     "output_type": "execute_result"
    }
   ],
   "source": [
    "ratings.duplicated().sum()"
   ]
  },
  {
   "cell_type": "code",
   "execution_count": 27,
   "id": "66fb764d",
   "metadata": {
    "ExecuteTime": {
     "end_time": "2022-12-01T06:17:09.545540Z",
     "start_time": "2022-12-01T06:17:09.465507Z"
    }
   },
   "outputs": [
    {
     "data": {
      "text/html": [
       "<div>\n",
       "<style scoped>\n",
       "    .dataframe tbody tr th:only-of-type {\n",
       "        vertical-align: middle;\n",
       "    }\n",
       "\n",
       "    .dataframe tbody tr th {\n",
       "        vertical-align: top;\n",
       "    }\n",
       "\n",
       "    .dataframe thead th {\n",
       "        text-align: right;\n",
       "    }\n",
       "</style>\n",
       "<table border=\"1\" class=\"dataframe\">\n",
       "  <thead>\n",
       "    <tr style=\"text-align: right;\">\n",
       "      <th></th>\n",
       "      <th>User-ID</th>\n",
       "      <th>ISBN</th>\n",
       "      <th>Book-Rating</th>\n",
       "    </tr>\n",
       "  </thead>\n",
       "  <tbody>\n",
       "    <tr>\n",
       "      <th>0</th>\n",
       "      <td>276725</td>\n",
       "      <td>034545104X</td>\n",
       "      <td>0</td>\n",
       "    </tr>\n",
       "    <tr>\n",
       "      <th>2</th>\n",
       "      <td>276727</td>\n",
       "      <td>0446520802</td>\n",
       "      <td>0</td>\n",
       "    </tr>\n",
       "    <tr>\n",
       "      <th>5</th>\n",
       "      <td>276733</td>\n",
       "      <td>2080674722</td>\n",
       "      <td>0</td>\n",
       "    </tr>\n",
       "    <tr>\n",
       "      <th>10</th>\n",
       "      <td>276746</td>\n",
       "      <td>0425115801</td>\n",
       "      <td>0</td>\n",
       "    </tr>\n",
       "    <tr>\n",
       "      <th>11</th>\n",
       "      <td>276746</td>\n",
       "      <td>0449006522</td>\n",
       "      <td>0</td>\n",
       "    </tr>\n",
       "    <tr>\n",
       "      <th>...</th>\n",
       "      <td>...</td>\n",
       "      <td>...</td>\n",
       "      <td>...</td>\n",
       "    </tr>\n",
       "    <tr>\n",
       "      <th>1149769</th>\n",
       "      <td>276704</td>\n",
       "      <td>059032120X</td>\n",
       "      <td>0</td>\n",
       "    </tr>\n",
       "    <tr>\n",
       "      <th>1149770</th>\n",
       "      <td>276704</td>\n",
       "      <td>0679752714</td>\n",
       "      <td>0</td>\n",
       "    </tr>\n",
       "    <tr>\n",
       "      <th>1149772</th>\n",
       "      <td>276704</td>\n",
       "      <td>080410526X</td>\n",
       "      <td>0</td>\n",
       "    </tr>\n",
       "    <tr>\n",
       "      <th>1149774</th>\n",
       "      <td>276704</td>\n",
       "      <td>0876044011</td>\n",
       "      <td>0</td>\n",
       "    </tr>\n",
       "    <tr>\n",
       "      <th>1149776</th>\n",
       "      <td>276706</td>\n",
       "      <td>0679447156</td>\n",
       "      <td>0</td>\n",
       "    </tr>\n",
       "  </tbody>\n",
       "</table>\n",
       "<p>716109 rows × 3 columns</p>\n",
       "</div>"
      ],
      "text/plain": [
       "         User-ID        ISBN  Book-Rating\n",
       "0         276725  034545104X            0\n",
       "2         276727  0446520802            0\n",
       "5         276733  2080674722            0\n",
       "10        276746  0425115801            0\n",
       "11        276746  0449006522            0\n",
       "...          ...         ...          ...\n",
       "1149769   276704  059032120X            0\n",
       "1149770   276704  0679752714            0\n",
       "1149772   276704  080410526X            0\n",
       "1149774   276704  0876044011            0\n",
       "1149776   276706  0679447156            0\n",
       "\n",
       "[716109 rows x 3 columns]"
      ]
     },
     "execution_count": 27,
     "metadata": {},
     "output_type": "execute_result"
    }
   ],
   "source": [
    "ratings.loc[ratings['Book-Rating'] == 0]"
   ]
  },
  {
   "cell_type": "code",
   "execution_count": 28,
   "id": "4c32688c",
   "metadata": {
    "ExecuteTime": {
     "end_time": "2022-12-01T06:17:09.893622Z",
     "start_time": "2022-12-01T06:17:09.548532Z"
    }
   },
   "outputs": [
    {
     "data": {
      "text/plain": [
       "<AxesSubplot:>"
      ]
     },
     "execution_count": 28,
     "metadata": {},
     "output_type": "execute_result"
    },
    {
     "data": {
      "image/png": "[encoded data removed]",
      "text/plain": [
       "<Figure size 432x288 with 1 Axes>"
      ]
     },
     "metadata": {},
     "output_type": "display_data"
    }
   ],
   "source": [
    "ratings['Book-Rating'].hist(bins=10)"
   ]
  },
  {
   "cell_type": "code",
   "execution_count": 29,
   "id": "eef7f1e3",
   "metadata": {
    "ExecuteTime": {
     "end_time": "2022-12-01T06:17:14.390765Z",
     "start_time": "2022-12-01T06:17:09.903584Z"
    }
   },
   "outputs": [
    {
     "data": {
      "image/png": "[encoded data removed]",
      "text/plain": [
       "<Figure size 3600x1440 with 1 Axes>"
      ]
     },
     "metadata": {},
     "output_type": "display_data"
    }
   ],
   "source": [
    "publications = {}\n",
    "for year in books['Year-Of-Publication']:\n",
    "    if str(year) not in publications:\n",
    "        publications[str(year)] = 0\n",
    "    publications[str(year)] +=1\n",
    "\n",
    "publications = {k:v for k, v in sorted(publications.items())}\n",
    "\n",
    "fig = plt.figure(figsize =(50, 20))\n",
    "plt.bar(list(publications.keys()),list(publications.values()), color = 'blue')\n",
    "plt.ylabel(\"Number of books published\")\n",
    "plt.xlabel(\"Year of Publication\")\n",
    "plt.title(\"Number of books published by yearly\")\n",
    "plt.margins(x = 0)\n",
    "plt.show()"
   ]
  },
  {
   "cell_type": "code",
   "execution_count": 30,
   "id": "960002cc",
   "metadata": {
    "ExecuteTime": {
     "end_time": "2022-12-01T06:17:14.849495Z",
     "start_time": "2022-12-01T06:17:14.392700Z"
    }
   },
   "outputs": [
    {
     "data": {
      "text/plain": [
       "<AxesSubplot:xlabel='Book-Rating', ylabel='count'>"
      ]
     },
     "execution_count": 30,
     "metadata": {},
     "output_type": "execute_result"
    },
    {
     "data": {
      "image/png": "[encoded data removed]",
      "text/plain": [
       "<Figure size 720x576 with 1 Axes>"
      ]
     },
     "metadata": {},
     "output_type": "display_data"
    }
   ],
   "source": [
    "plt.figure(figsize=(10,8))\n",
    "sns.countplot(x=\"Book-Rating\", data=ratings)"
   ]
  },
  {
   "cell_type": "code",
   "execution_count": 31,
   "id": "2b1b349c",
   "metadata": {
    "ExecuteTime": {
     "end_time": "2022-12-01T06:17:15.278106Z",
     "start_time": "2022-12-01T06:17:14.853457Z"
    }
   },
   "outputs": [
    {
     "data": {
      "text/plain": [
       "Text(0.5, 1.0, 'Explicit Ratings')"
      ]
     },
     "execution_count": 31,
     "metadata": {},
     "output_type": "execute_result"
    },
    {
     "data": {
      "image/png": "[encoded data removed]",
      "text/plain": [
       "<Figure size 864x720 with 1 Axes>"
      ]
     },
     "metadata": {},
     "output_type": "display_data"
    }
   ],
   "source": [
    "# Explicit Ratings\n",
    "plt.figure(figsize=(12,10))\n",
    "data = ratings[ratings['Book-Rating'] != 0]\n",
    "sns.countplot(x=\"Book-Rating\", data=data)\n",
    "plt.title(\"Explicit Ratings\")"
   ]
  },
  {
   "cell_type": "code",
   "execution_count": 32,
   "id": "c54e9f46",
   "metadata": {
    "ExecuteTime": {
     "end_time": "2022-12-01T06:17:16.274993Z",
     "start_time": "2022-12-01T06:17:15.281070Z"
    }
   },
   "outputs": [
    {
     "data": {
      "text/plain": [
       "Text(0.5, 1.0, 'Number of books by an author (Top 20)')"
      ]
     },
     "execution_count": 32,
     "metadata": {},
     "output_type": "execute_result"
    },
    {
     "data": {
      "image/png": "[encoded data removed]",
      "text/plain": [
       "<Figure size 1152x576 with 1 Axes>"
      ]
     },
     "metadata": {},
     "output_type": "display_data"
    }
   ],
   "source": [
    "#number of books published by an author (top-20)\n",
    "plt.figure(figsize=(16,8))\n",
    "sns.countplot(y=\"Book-Author\", data=books,order=books['Book-Author'].value_counts().index[0:20])\n",
    "plt.title(\"Number of books by an author (Top 20)\")"
   ]
  },
  {
   "cell_type": "code",
   "execution_count": 33,
   "id": "84423c6c",
   "metadata": {
    "ExecuteTime": {
     "end_time": "2022-12-01T06:17:16.891430Z",
     "start_time": "2022-12-01T06:17:16.278982Z"
    }
   },
   "outputs": [
    {
     "data": {
      "text/plain": [
       "Text(0.5, 1.0, 'Number of books published by a publisher (Top 20)')"
      ]
     },
     "execution_count": 33,
     "metadata": {},
     "output_type": "execute_result"
    },
    {
     "data": {
      "image/png": "[encoded data removed]",
      "text/plain": [
       "<Figure size 1152x504 with 1 Axes>"
      ]
     },
     "metadata": {},
     "output_type": "display_data"
    }
   ],
   "source": [
    "# number of books published by publisher (top 20)\n",
    "plt.figure(figsize=(16,7))\n",
    "sns.countplot(y=\"Publisher\", data=books,order=books['Publisher'].value_counts().index[0:20])\n",
    "plt.title(\"Number of books published by a publisher (Top 20)\")"
   ]
  },
  {
   "cell_type": "code",
   "execution_count": 34,
   "id": "9700d447",
   "metadata": {
    "ExecuteTime": {
     "end_time": "2022-12-01T06:17:18.362233Z",
     "start_time": "2022-12-01T06:17:16.894423Z"
    }
   },
   "outputs": [
    {
     "data": {
      "text/plain": [
       "Text(0.5, 1.0, 'Number of Ratings for a book (Top 10)')"
      ]
     },
     "execution_count": 34,
     "metadata": {},
     "output_type": "execute_result"
    },
    {
     "data": {
      "image/png": "[encoded data removed]",
      "text/plain": [
       "<Figure size 1080x576 with 1 Axes>"
      ]
     },
     "metadata": {},
     "output_type": "display_data"
    }
   ],
   "source": [
    "# Plotting of ratings \n",
    "plt.figure(figsize=(15,8))\n",
    "sns.countplot(y=\"Book-Title\", data=books, order=books['Book-Title'].value_counts().index[0:10])\n",
    "plt.title(\"Number of Ratings for a book (Top 10)\")"
   ]
  },
  {
   "cell_type": "markdown",
   "id": "28923e37",
   "metadata": {},
   "source": [
    "## Simple Popularity based Recommendation System"
   ]
  },
  {
   "cell_type": "code",
   "execution_count": 35,
   "id": "c49d6eef",
   "metadata": {
    "ExecuteTime": {
     "end_time": "2022-12-01T06:17:19.343063Z",
     "start_time": "2022-12-01T06:17:18.366193Z"
    }
   },
   "outputs": [
    {
     "name": "stdout",
     "output_type": "stream",
     "text": [
      "The following books are recommended\n"
     ]
    },
    {
     "data": {
      "text/html": [
       "<div>\n",
       "<style scoped>\n",
       "    .dataframe tbody tr th:only-of-type {\n",
       "        vertical-align: middle;\n",
       "    }\n",
       "\n",
       "    .dataframe tbody tr th {\n",
       "        vertical-align: top;\n",
       "    }\n",
       "\n",
       "    .dataframe thead th {\n",
       "        text-align: right;\n",
       "    }\n",
       "</style>\n",
       "<table border=\"1\" class=\"dataframe\">\n",
       "  <thead>\n",
       "    <tr style=\"text-align: right;\">\n",
       "      <th></th>\n",
       "      <th>Book-Rating</th>\n",
       "      <th>ISBN</th>\n",
       "      <th>Book-Title</th>\n",
       "      <th>Book-Author</th>\n",
       "      <th>Year-Of-Publication</th>\n",
       "      <th>Publisher</th>\n",
       "      <th>Image-URL-S</th>\n",
       "      <th>Image-URL-M</th>\n",
       "      <th>Image-URL-L</th>\n",
       "      <th>year</th>\n",
       "    </tr>\n",
       "  </thead>\n",
       "  <tbody>\n",
       "    <tr>\n",
       "      <th>408</th>\n",
       "      <td>5787</td>\n",
       "      <td>0316666343</td>\n",
       "      <td>The Lovely Bones: A Novel</td>\n",
       "      <td>Alice Sebold</td>\n",
       "      <td>2002.0</td>\n",
       "      <td>Little, Brown</td>\n",
       "      <td>http://images.amazon.com/images/P/0316666343.0...</td>\n",
       "      <td>http://images.amazon.com/images/P/0316666343.0...</td>\n",
       "      <td>http://images.amazon.com/images/P/0316666343.0...</td>\n",
       "      <td>NaN</td>\n",
       "    </tr>\n",
       "    <tr>\n",
       "      <th>748</th>\n",
       "      <td>4108</td>\n",
       "      <td>0385504209</td>\n",
       "      <td>The Da Vinci Code</td>\n",
       "      <td>Dan Brown</td>\n",
       "      <td>2003.0</td>\n",
       "      <td>Doubleday</td>\n",
       "      <td>http://images.amazon.com/images/P/0385504209.0...</td>\n",
       "      <td>http://images.amazon.com/images/P/0385504209.0...</td>\n",
       "      <td>http://images.amazon.com/images/P/0385504209.0...</td>\n",
       "      <td>NaN</td>\n",
       "    </tr>\n",
       "    <tr>\n",
       "      <th>522</th>\n",
       "      <td>3134</td>\n",
       "      <td>0312195516</td>\n",
       "      <td>The Red Tent (Bestselling Backlist)</td>\n",
       "      <td>Anita Diamant</td>\n",
       "      <td>1998.0</td>\n",
       "      <td>Picador USA</td>\n",
       "      <td>http://images.amazon.com/images/P/0312195516.0...</td>\n",
       "      <td>http://images.amazon.com/images/P/0312195516.0...</td>\n",
       "      <td>http://images.amazon.com/images/P/0312195516.0...</td>\n",
       "      <td>NaN</td>\n",
       "    </tr>\n",
       "    <tr>\n",
       "      <th>2143</th>\n",
       "      <td>2798</td>\n",
       "      <td>059035342X</td>\n",
       "      <td>Harry Potter and the Sorcerer's Stone (Harry P...</td>\n",
       "      <td>J. K. Rowling</td>\n",
       "      <td>1999.0</td>\n",
       "      <td>Arthur A. Levine Books</td>\n",
       "      <td>http://images.amazon.com/images/P/059035342X.0...</td>\n",
       "      <td>http://images.amazon.com/images/P/059035342X.0...</td>\n",
       "      <td>http://images.amazon.com/images/P/059035342X.0...</td>\n",
       "      <td>NaN</td>\n",
       "    </tr>\n",
       "    <tr>\n",
       "      <th>356</th>\n",
       "      <td>2595</td>\n",
       "      <td>0142001740</td>\n",
       "      <td>The Secret Life of Bees</td>\n",
       "      <td>Sue Monk Kidd</td>\n",
       "      <td>2003.0</td>\n",
       "      <td>Penguin Books</td>\n",
       "      <td>http://images.amazon.com/images/P/0142001740.0...</td>\n",
       "      <td>http://images.amazon.com/images/P/0142001740.0...</td>\n",
       "      <td>http://images.amazon.com/images/P/0142001740.0...</td>\n",
       "      <td>NaN</td>\n",
       "    </tr>\n",
       "    <tr>\n",
       "      <th>26</th>\n",
       "      <td>2551</td>\n",
       "      <td>0971880107</td>\n",
       "      <td>Wild Animus</td>\n",
       "      <td>Rich Shapero</td>\n",
       "      <td>2004.0</td>\n",
       "      <td>Too Far</td>\n",
       "      <td>http://images.amazon.com/images/P/0971880107.0...</td>\n",
       "      <td>http://images.amazon.com/images/P/0971880107.0...</td>\n",
       "      <td>http://images.amazon.com/images/P/0971880107.0...</td>\n",
       "      <td>NaN</td>\n",
       "    </tr>\n",
       "    <tr>\n",
       "      <th>1105</th>\n",
       "      <td>2524</td>\n",
       "      <td>0060928336</td>\n",
       "      <td>Divine Secrets of the Ya-Ya Sisterhood: A Novel</td>\n",
       "      <td>Rebecca Wells</td>\n",
       "      <td>1997.0</td>\n",
       "      <td>Perennial</td>\n",
       "      <td>http://images.amazon.com/images/P/0060928336.0...</td>\n",
       "      <td>http://images.amazon.com/images/P/0060928336.0...</td>\n",
       "      <td>http://images.amazon.com/images/P/0060928336.0...</td>\n",
       "      <td>NaN</td>\n",
       "    </tr>\n",
       "    <tr>\n",
       "      <th>706</th>\n",
       "      <td>2402</td>\n",
       "      <td>0446672211</td>\n",
       "      <td>Where the Heart Is (Oprah's Book Club (Paperba...</td>\n",
       "      <td>Billie Letts</td>\n",
       "      <td>1998.0</td>\n",
       "      <td>Warner Books</td>\n",
       "      <td>http://images.amazon.com/images/P/0446672211.0...</td>\n",
       "      <td>http://images.amazon.com/images/P/0446672211.0...</td>\n",
       "      <td>http://images.amazon.com/images/P/0446672211.0...</td>\n",
       "      <td>NaN</td>\n",
       "    </tr>\n",
       "    <tr>\n",
       "      <th>231</th>\n",
       "      <td>2219</td>\n",
       "      <td>0452282152</td>\n",
       "      <td>Girl with a Pearl Earring</td>\n",
       "      <td>Tracy Chevalier</td>\n",
       "      <td>2001.0</td>\n",
       "      <td>Plume Books</td>\n",
       "      <td>http://images.amazon.com/images/P/0452282152.0...</td>\n",
       "      <td>http://images.amazon.com/images/P/0452282152.0...</td>\n",
       "      <td>http://images.amazon.com/images/P/0452282152.0...</td>\n",
       "      <td>NaN</td>\n",
       "    </tr>\n",
       "  </tbody>\n",
       "</table>\n",
       "</div>"
      ],
      "text/plain": [
       "      Book-Rating        ISBN  \\\n",
       "408          5787  0316666343   \n",
       "748          4108  0385504209   \n",
       "522          3134  0312195516   \n",
       "2143         2798  059035342X   \n",
       "356          2595  0142001740   \n",
       "26           2551  0971880107   \n",
       "1105         2524  0060928336   \n",
       "706          2402  0446672211   \n",
       "231          2219  0452282152   \n",
       "\n",
       "                                             Book-Title      Book-Author  \\\n",
       "408                           The Lovely Bones: A Novel     Alice Sebold   \n",
       "748                                   The Da Vinci Code        Dan Brown   \n",
       "522                 The Red Tent (Bestselling Backlist)    Anita Diamant   \n",
       "2143  Harry Potter and the Sorcerer's Stone (Harry P...    J. K. Rowling   \n",
       "356                             The Secret Life of Bees    Sue Monk Kidd   \n",
       "26                                          Wild Animus     Rich Shapero   \n",
       "1105    Divine Secrets of the Ya-Ya Sisterhood: A Novel    Rebecca Wells   \n",
       "706   Where the Heart Is (Oprah's Book Club (Paperba...     Billie Letts   \n",
       "231                           Girl with a Pearl Earring  Tracy Chevalier   \n",
       "\n",
       "      Year-Of-Publication               Publisher  \\\n",
       "408                2002.0           Little, Brown   \n",
       "748                2003.0               Doubleday   \n",
       "522                1998.0             Picador USA   \n",
       "2143               1999.0  Arthur A. Levine Books   \n",
       "356                2003.0           Penguin Books   \n",
       "26                 2004.0                 Too Far   \n",
       "1105               1997.0               Perennial   \n",
       "706                1998.0            Warner Books   \n",
       "231                2001.0             Plume Books   \n",
       "\n",
       "                                            Image-URL-S  \\\n",
       "408   http://images.amazon.com/images/P/0316666343.0...   \n",
       "748   http://images.amazon.com/images/P/0385504209.0...   \n",
       "522   http://images.amazon.com/images/P/0312195516.0...   \n",
       "2143  http://images.amazon.com/images/P/059035342X.0...   \n",
       "356   http://images.amazon.com/images/P/0142001740.0...   \n",
       "26    http://images.amazon.com/images/P/0971880107.0...   \n",
       "1105  http://images.amazon.com/images/P/0060928336.0...   \n",
       "706   http://images.amazon.com/images/P/0446672211.0...   \n",
       "231   http://images.amazon.com/images/P/0452282152.0...   \n",
       "\n",
       "                                            Image-URL-M  \\\n",
       "408   http://images.amazon.com/images/P/0316666343.0...   \n",
       "748   http://images.amazon.com/images/P/0385504209.0...   \n",
       "522   http://images.amazon.com/images/P/0312195516.0...   \n",
       "2143  http://images.amazon.com/images/P/059035342X.0...   \n",
       "356   http://images.amazon.com/images/P/0142001740.0...   \n",
       "26    http://images.amazon.com/images/P/0971880107.0...   \n",
       "1105  http://images.amazon.com/images/P/0060928336.0...   \n",
       "706   http://images.amazon.com/images/P/0446672211.0...   \n",
       "231   http://images.amazon.com/images/P/0452282152.0...   \n",
       "\n",
       "                                            Image-URL-L  year  \n",
       "408   http://images.amazon.com/images/P/0316666343.0...   NaN  \n",
       "748   http://images.amazon.com/images/P/0385504209.0...   NaN  \n",
       "522   http://images.amazon.com/images/P/0312195516.0...   NaN  \n",
       "2143  http://images.amazon.com/images/P/059035342X.0...   NaN  \n",
       "356   http://images.amazon.com/images/P/0142001740.0...   NaN  \n",
       "26    http://images.amazon.com/images/P/0971880107.0...   NaN  \n",
       "1105  http://images.amazon.com/images/P/0060928336.0...   NaN  \n",
       "706   http://images.amazon.com/images/P/0446672211.0...   NaN  \n",
       "231   http://images.amazon.com/images/P/0452282152.0...   NaN  "
      ]
     },
     "execution_count": 35,
     "metadata": {},
     "output_type": "execute_result"
    }
   ],
   "source": [
    "ratings_count = ratings.groupby(by=['ISBN'])['Book-Rating'].sum()\n",
    "ratings_count = pd.DataFrame(ratings_count)\n",
    "top10 = ratings_count.sort_values('Book-Rating' , ascending=False).head(10)\n",
    "print(\"The following books are recommended\")\n",
    "top10.merge(books , left_index=True , right_on= 'ISBN')"
   ]
  },
  {
   "cell_type": "markdown",
   "id": "searching-horror",
   "metadata": {
    "papermill": {
     "duration": 0.031104,
     "end_time": "2021-06-22T07:08:05.962815",
     "exception": false,
     "start_time": "2021-06-22T07:08:05.931711",
     "status": "completed"
    },
    "tags": []
   },
   "source": [
    "# Recommendation using KNN"
   ]
  },
  {
   "cell_type": "code",
   "execution_count": 36,
   "id": "fuzzy-fountain",
   "metadata": {
    "ExecuteTime": {
     "end_time": "2022-12-01T06:17:22.735973Z",
     "start_time": "2022-12-01T06:17:19.356026Z"
    },
    "execution": {
     "iopub.execute_input": "2021-06-22T07:08:06.032864Z",
     "iopub.status.busy": "2021-06-22T07:08:06.032179Z",
     "iopub.status.idle": "2021-06-22T07:08:08.882913Z",
     "shell.execute_reply": "2021-06-22T07:08:08.882297Z",
     "shell.execute_reply.started": "2021-06-22T06:50:02.242830Z"
    },
    "papermill": {
     "duration": 2.888556,
     "end_time": "2021-06-22T07:08:08.883069",
     "exception": false,
     "start_time": "2021-06-22T07:08:05.994513",
     "status": "completed"
    },
    "tags": []
   },
   "outputs": [],
   "source": [
    "# merging datasets\n",
    "merged_data = pd.merge(books, ratings, on='ISBN', how='inner')\n",
    "merged_data = pd.merge(merged_data, users, on='User-ID', how='inner')\n",
    "\n",
    "data1 = (merged_data.groupby(by = ['Book-Title'])['Book-Rating'].count().reset_index().rename(columns = {'Book-Rating': 'Total-Rating'}))\n"
   ]
  },
  {
   "cell_type": "code",
   "execution_count": 37,
   "id": "04910446",
   "metadata": {
    "ExecuteTime": {
     "end_time": "2022-12-01T06:17:22.766858Z",
     "start_time": "2022-12-01T06:17:22.738971Z"
    }
   },
   "outputs": [
    {
     "name": "stdout",
     "output_type": "stream",
     "text": [
      "[1, 2, 3, 4, 5, 6, 7, 8, 9, 10, 11, 12, 13, 14, 15, 16, 17, 18, 19, 20, 21, 22, 23, 24, 25, 26, 27, 28, 29, 30, 31, 32, 33, 34, 35, 36, 37, 38, 39, 40, 41, 42, 43, 44, 45, 46, 47, 48, 49, 50, 51, 52, 53, 54, 55, 56, 57, 58, 59, 60, 61, 62, 63, 64, 65, 66, 67, 68, 69, 70, 71, 72, 73, 74, 75, 76, 77, 78, 79, 80, 81, 82, 83, 84, 85, 86, 87, 88, 89, 90, 91, 92, 93, 94, 95, 96, 97, 98, 99, 100, 101, 102, 103, 104, 105, 106, 107, 108, 109, 110, 111, 112, 113, 114, 115, 116, 117, 118, 119, 120, 121, 122, 123, 124, 125, 126, 127, 128, 129, 130, 131, 132, 133, 134, 135, 136, 137, 138, 139, 140, 141, 142, 143, 144, 145, 146, 147, 148, 149, 150, 151, 152, 153, 154, 155, 156, 157, 158, 159, 160, 161, 162, 163, 164, 165, 166, 167, 168, 169, 170, 171, 172, 173, 174, 175, 176, 177, 178, 179, 180, 181, 182, 183, 184, 185, 186, 187, 188, 189, 190, 191, 192, 193, 194, 195, 196, 197, 198, 199, 200, 201, 202, 203, 204, 205, 207, 208, 209, 210, 211, 212, 213, 214, 216, 219, 220, 221, 222, 223, 224, 225, 226, 227, 228, 229, 230, 231, 232, 233, 234, 236, 237, 238, 239, 241, 242, 244, 247, 248, 249, 252, 253, 254, 255, 256, 257, 258, 259, 260, 262, 263, 264, 265, 266, 267, 268, 269, 273, 274, 275, 276, 277, 278, 279, 281, 283, 284, 285, 286, 287, 288, 289, 291, 293, 294, 298, 299, 301, 302, 304, 308, 309, 311, 312, 313, 314, 318, 319, 321, 322, 326, 327, 332, 335, 336, 337, 342, 344, 346, 347, 350, 356, 360, 362, 364, 368, 372, 374, 376, 378, 379, 380, 382, 384, 387, 389, 392, 393, 396, 402, 404, 409, 413, 428, 430, 431, 434, 435, 443, 446, 449, 457, 458, 466, 468, 478, 481, 483, 488, 490, 493, 494, 496, 501, 507, 508, 509, 510, 520, 526, 545, 549, 552, 555, 556, 568, 569, 573, 575, 581, 585, 588, 617, 650, 655, 662, 664, 670, 723, 740, 774, 815, 828, 838, 898, 1295, 2502]\n"
     ]
    }
   ],
   "source": [
    "print(sorted(data1['Total-Rating'].unique()))"
   ]
  },
  {
   "cell_type": "code",
   "execution_count": 38,
   "id": "3d5d74e4",
   "metadata": {
    "ExecuteTime": {
     "end_time": "2022-12-01T06:17:36.699560Z",
     "start_time": "2022-12-01T06:17:22.776847Z"
    }
   },
   "outputs": [],
   "source": [
    "data = pd.merge(data1, merged_data, on='Book-Title', left_index = False)\n",
    "data = data[data['Total-Rating'] >= 50]\n",
    "data = data.reset_index(drop = True)\n",
    "\n",
    "#building a matrix\n",
    "from scipy.sparse import csr_matrix\n",
    "df = data.pivot_table(index = 'Book-Title', columns = 'User-ID', values = 'Book-Rating').fillna(0)\n",
    "matrix = csr_matrix(df)"
   ]
  },
  {
   "cell_type": "code",
   "execution_count": 40,
   "id": "eddb469e",
   "metadata": {
    "ExecuteTime": {
     "end_time": "2022-12-01T06:18:45.093598Z",
     "start_time": "2022-12-01T06:18:40.547999Z"
    }
   },
   "outputs": [
    {
     "name": "stdout",
     "output_type": "stream",
     "text": [
      "Enter a book name: Charlie and the Chocolate Factory\n",
      "\n",
      "Recommended books:\n",
      "\n",
      "The BFG\n",
      "Matilda\n",
      "Stuart Little\n",
      "Harry Potter and the Prisoner of Azkaban (Book 3)\n",
      "The Westing Game (Now in Speak!)\n",
      "November of the Heart\n",
      "Charlotte's Web (Trophy Newbery)\n",
      "Adventures of Huckleberry Finn\n",
      "Harry Potter and the Chamber of Secrets (Book 2)\n"
     ]
    }
   ],
   "source": [
    "from sklearn.neighbors import NearestNeighbors\n",
    "book_name = input(\"Enter a book name: \")\n",
    "model = NearestNeighbors(metric = 'cosine', algorithm = 'brute')\n",
    "model.fit(matrix)\n",
    "\n",
    "distances, indices = model.kneighbors(df.loc[book_name].values.reshape(1, -1), n_neighbors =10)\n",
    "print(\"\\nRecommended books:\\n\")\n",
    "for i in range(0, len(distances.flatten())):\n",
    "    if i > 0:\n",
    "        print(df.index[indices.flatten()[i]]) "
   ]
  },
  {
   "cell_type": "code",
   "execution_count": null,
   "id": "55cd5afd",
   "metadata": {},
   "outputs": [],
   "source": []
  },
  {
   "cell_type": "code",
   "execution_count": 41,
   "id": "6759fb9b",
   "metadata": {
    "ExecuteTime": {
     "end_time": "2022-12-01T06:18:49.133112Z",
     "start_time": "2022-12-01T06:18:49.039022Z"
    }
   },
   "outputs": [
    {
     "data": {
      "text/html": [
       "<div>\n",
       "<style scoped>\n",
       "    .dataframe tbody tr th:only-of-type {\n",
       "        vertical-align: middle;\n",
       "    }\n",
       "\n",
       "    .dataframe tbody tr th {\n",
       "        vertical-align: top;\n",
       "    }\n",
       "\n",
       "    .dataframe thead th {\n",
       "        text-align: right;\n",
       "    }\n",
       "</style>\n",
       "<table border=\"1\" class=\"dataframe\">\n",
       "  <thead>\n",
       "    <tr style=\"text-align: right;\">\n",
       "      <th></th>\n",
       "      <th>Book-Title</th>\n",
       "      <th>Total-Rating</th>\n",
       "      <th>ISBN</th>\n",
       "      <th>Book-Author</th>\n",
       "      <th>Year-Of-Publication</th>\n",
       "      <th>Publisher</th>\n",
       "      <th>Image-URL-S</th>\n",
       "      <th>Image-URL-M</th>\n",
       "      <th>Image-URL-L</th>\n",
       "      <th>year</th>\n",
       "      <th>User-ID</th>\n",
       "      <th>Book-Rating</th>\n",
       "      <th>Location</th>\n",
       "      <th>Age</th>\n",
       "    </tr>\n",
       "  </thead>\n",
       "  <tbody>\n",
       "    <tr>\n",
       "      <th>41680</th>\n",
       "      <td>Charlie and the Chocolate Factory</td>\n",
       "      <td>71</td>\n",
       "      <td>0140328696</td>\n",
       "      <td>Roald Dahl</td>\n",
       "      <td>1994.0</td>\n",
       "      <td>Puffin Books</td>\n",
       "      <td>http://images.amazon.com/images/P/0140328696.0...</td>\n",
       "      <td>http://images.amazon.com/images/P/0140328696.0...</td>\n",
       "      <td>http://images.amazon.com/images/P/0140328696.0...</td>\n",
       "      <td>NaN</td>\n",
       "      <td>197659</td>\n",
       "      <td>7</td>\n",
       "      <td>indiana, pennsylvania, usa</td>\n",
       "      <td>49.000000</td>\n",
       "    </tr>\n",
       "    <tr>\n",
       "      <th>41681</th>\n",
       "      <td>Charlie and the Chocolate Factory</td>\n",
       "      <td>71</td>\n",
       "      <td>0553150979</td>\n",
       "      <td>Roald Dahl</td>\n",
       "      <td>1977.0</td>\n",
       "      <td>Bantam Books</td>\n",
       "      <td>http://images.amazon.com/images/P/0553150979.0...</td>\n",
       "      <td>http://images.amazon.com/images/P/0553150979.0...</td>\n",
       "      <td>http://images.amazon.com/images/P/0553150979.0...</td>\n",
       "      <td>NaN</td>\n",
       "      <td>113519</td>\n",
       "      <td>0</td>\n",
       "      <td>pleasanton, california, usa</td>\n",
       "      <td>34.746638</td>\n",
       "    </tr>\n",
       "    <tr>\n",
       "      <th>41682</th>\n",
       "      <td>Charlie and the Chocolate Factory</td>\n",
       "      <td>71</td>\n",
       "      <td>0375815260</td>\n",
       "      <td>ROALD DAHL</td>\n",
       "      <td>2001.0</td>\n",
       "      <td>Knopf Books for Young Readers</td>\n",
       "      <td>http://images.amazon.com/images/P/0375815260.0...</td>\n",
       "      <td>http://images.amazon.com/images/P/0375815260.0...</td>\n",
       "      <td>http://images.amazon.com/images/P/0375815260.0...</td>\n",
       "      <td>NaN</td>\n",
       "      <td>79186</td>\n",
       "      <td>10</td>\n",
       "      <td>fairbanks, alaska, usa</td>\n",
       "      <td>37.000000</td>\n",
       "    </tr>\n",
       "    <tr>\n",
       "      <th>41683</th>\n",
       "      <td>Charlie and the Chocolate Factory</td>\n",
       "      <td>71</td>\n",
       "      <td>0140328696</td>\n",
       "      <td>Roald Dahl</td>\n",
       "      <td>1994.0</td>\n",
       "      <td>Puffin Books</td>\n",
       "      <td>http://images.amazon.com/images/P/0140328696.0...</td>\n",
       "      <td>http://images.amazon.com/images/P/0140328696.0...</td>\n",
       "      <td>http://images.amazon.com/images/P/0140328696.0...</td>\n",
       "      <td>NaN</td>\n",
       "      <td>101209</td>\n",
       "      <td>0</td>\n",
       "      <td>ft huachuca, arizona, usa</td>\n",
       "      <td>44.000000</td>\n",
       "    </tr>\n",
       "    <tr>\n",
       "      <th>41684</th>\n",
       "      <td>Charlie and the Chocolate Factory</td>\n",
       "      <td>71</td>\n",
       "      <td>0140328696</td>\n",
       "      <td>Roald Dahl</td>\n",
       "      <td>1994.0</td>\n",
       "      <td>Puffin Books</td>\n",
       "      <td>http://images.amazon.com/images/P/0140328696.0...</td>\n",
       "      <td>http://images.amazon.com/images/P/0140328696.0...</td>\n",
       "      <td>http://images.amazon.com/images/P/0140328696.0...</td>\n",
       "      <td>NaN</td>\n",
       "      <td>105979</td>\n",
       "      <td>7</td>\n",
       "      <td>oakland, california, usa</td>\n",
       "      <td>26.000000</td>\n",
       "    </tr>\n",
       "    <tr>\n",
       "      <th>...</th>\n",
       "      <td>...</td>\n",
       "      <td>...</td>\n",
       "      <td>...</td>\n",
       "      <td>...</td>\n",
       "      <td>...</td>\n",
       "      <td>...</td>\n",
       "      <td>...</td>\n",
       "      <td>...</td>\n",
       "      <td>...</td>\n",
       "      <td>...</td>\n",
       "      <td>...</td>\n",
       "      <td>...</td>\n",
       "      <td>...</td>\n",
       "      <td>...</td>\n",
       "    </tr>\n",
       "    <tr>\n",
       "      <th>41746</th>\n",
       "      <td>Charlie and the Chocolate Factory</td>\n",
       "      <td>71</td>\n",
       "      <td>0553150979</td>\n",
       "      <td>Roald Dahl</td>\n",
       "      <td>1977.0</td>\n",
       "      <td>Bantam Books</td>\n",
       "      <td>http://images.amazon.com/images/P/0553150979.0...</td>\n",
       "      <td>http://images.amazon.com/images/P/0553150979.0...</td>\n",
       "      <td>http://images.amazon.com/images/P/0553150979.0...</td>\n",
       "      <td>NaN</td>\n",
       "      <td>106086</td>\n",
       "      <td>0</td>\n",
       "      <td>austin, texas, usa</td>\n",
       "      <td>9.000000</td>\n",
       "    </tr>\n",
       "    <tr>\n",
       "      <th>41747</th>\n",
       "      <td>Charlie and the Chocolate Factory</td>\n",
       "      <td>71</td>\n",
       "      <td>0375815260</td>\n",
       "      <td>ROALD DAHL</td>\n",
       "      <td>2001.0</td>\n",
       "      <td>Knopf Books for Young Readers</td>\n",
       "      <td>http://images.amazon.com/images/P/0375815260.0...</td>\n",
       "      <td>http://images.amazon.com/images/P/0375815260.0...</td>\n",
       "      <td>http://images.amazon.com/images/P/0375815260.0...</td>\n",
       "      <td>NaN</td>\n",
       "      <td>146027</td>\n",
       "      <td>7</td>\n",
       "      <td>marshall, missouri, usa</td>\n",
       "      <td>34.746638</td>\n",
       "    </tr>\n",
       "    <tr>\n",
       "      <th>41748</th>\n",
       "      <td>Charlie and the Chocolate Factory</td>\n",
       "      <td>71</td>\n",
       "      <td>0140328696</td>\n",
       "      <td>Roald Dahl</td>\n",
       "      <td>1994.0</td>\n",
       "      <td>Puffin Books</td>\n",
       "      <td>http://images.amazon.com/images/P/0140328696.0...</td>\n",
       "      <td>http://images.amazon.com/images/P/0140328696.0...</td>\n",
       "      <td>http://images.amazon.com/images/P/0140328696.0...</td>\n",
       "      <td>NaN</td>\n",
       "      <td>71863</td>\n",
       "      <td>9</td>\n",
       "      <td>westfield, new jersey, usa</td>\n",
       "      <td>34.746638</td>\n",
       "    </tr>\n",
       "    <tr>\n",
       "      <th>41749</th>\n",
       "      <td>Charlie and the Chocolate Factory</td>\n",
       "      <td>71</td>\n",
       "      <td>0553244787</td>\n",
       "      <td>Roald Dahl</td>\n",
       "      <td>0.0</td>\n",
       "      <td>Bantam Doubleday Dell</td>\n",
       "      <td>http://images.amazon.com/images/P/0553244787.0...</td>\n",
       "      <td>http://images.amazon.com/images/P/0553244787.0...</td>\n",
       "      <td>http://images.amazon.com/images/P/0553244787.0...</td>\n",
       "      <td>NaN</td>\n",
       "      <td>139572</td>\n",
       "      <td>10</td>\n",
       "      <td>ogden, utah, usa</td>\n",
       "      <td>34.746638</td>\n",
       "    </tr>\n",
       "    <tr>\n",
       "      <th>41750</th>\n",
       "      <td>Charlie and the Chocolate Factory</td>\n",
       "      <td>71</td>\n",
       "      <td>0553244787</td>\n",
       "      <td>Roald Dahl</td>\n",
       "      <td>0.0</td>\n",
       "      <td>Bantam Doubleday Dell</td>\n",
       "      <td>http://images.amazon.com/images/P/0553244787.0...</td>\n",
       "      <td>http://images.amazon.com/images/P/0553244787.0...</td>\n",
       "      <td>http://images.amazon.com/images/P/0553244787.0...</td>\n",
       "      <td>NaN</td>\n",
       "      <td>164998</td>\n",
       "      <td>8</td>\n",
       "      <td>union, nebraska, usa</td>\n",
       "      <td>34.746638</td>\n",
       "    </tr>\n",
       "  </tbody>\n",
       "</table>\n",
       "<p>71 rows × 14 columns</p>\n",
       "</div>"
      ],
      "text/plain": [
       "                              Book-Title  Total-Rating        ISBN  \\\n",
       "41680  Charlie and the Chocolate Factory            71  0140328696   \n",
       "41681  Charlie and the Chocolate Factory            71  0553150979   \n",
       "41682  Charlie and the Chocolate Factory            71  0375815260   \n",
       "41683  Charlie and the Chocolate Factory            71  0140328696   \n",
       "41684  Charlie and the Chocolate Factory            71  0140328696   \n",
       "...                                  ...           ...         ...   \n",
       "41746  Charlie and the Chocolate Factory            71  0553150979   \n",
       "41747  Charlie and the Chocolate Factory            71  0375815260   \n",
       "41748  Charlie and the Chocolate Factory            71  0140328696   \n",
       "41749  Charlie and the Chocolate Factory            71  0553244787   \n",
       "41750  Charlie and the Chocolate Factory            71  0553244787   \n",
       "\n",
       "      Book-Author  Year-Of-Publication                      Publisher  \\\n",
       "41680  Roald Dahl               1994.0                   Puffin Books   \n",
       "41681  Roald Dahl               1977.0                   Bantam Books   \n",
       "41682  ROALD DAHL               2001.0  Knopf Books for Young Readers   \n",
       "41683  Roald Dahl               1994.0                   Puffin Books   \n",
       "41684  Roald Dahl               1994.0                   Puffin Books   \n",
       "...           ...                  ...                            ...   \n",
       "41746  Roald Dahl               1977.0                   Bantam Books   \n",
       "41747  ROALD DAHL               2001.0  Knopf Books for Young Readers   \n",
       "41748  Roald Dahl               1994.0                   Puffin Books   \n",
       "41749  Roald Dahl                  0.0          Bantam Doubleday Dell   \n",
       "41750  Roald Dahl                  0.0          Bantam Doubleday Dell   \n",
       "\n",
       "                                             Image-URL-S  \\\n",
       "41680  http://images.amazon.com/images/P/0140328696.0...   \n",
       "41681  http://images.amazon.com/images/P/0553150979.0...   \n",
       "41682  http://images.amazon.com/images/P/0375815260.0...   \n",
       "41683  http://images.amazon.com/images/P/0140328696.0...   \n",
       "41684  http://images.amazon.com/images/P/0140328696.0...   \n",
       "...                                                  ...   \n",
       "41746  http://images.amazon.com/images/P/0553150979.0...   \n",
       "41747  http://images.amazon.com/images/P/0375815260.0...   \n",
       "41748  http://images.amazon.com/images/P/0140328696.0...   \n",
       "41749  http://images.amazon.com/images/P/0553244787.0...   \n",
       "41750  http://images.amazon.com/images/P/0553244787.0...   \n",
       "\n",
       "                                             Image-URL-M  \\\n",
       "41680  http://images.amazon.com/images/P/0140328696.0...   \n",
       "41681  http://images.amazon.com/images/P/0553150979.0...   \n",
       "41682  http://images.amazon.com/images/P/0375815260.0...   \n",
       "41683  http://images.amazon.com/images/P/0140328696.0...   \n",
       "41684  http://images.amazon.com/images/P/0140328696.0...   \n",
       "...                                                  ...   \n",
       "41746  http://images.amazon.com/images/P/0553150979.0...   \n",
       "41747  http://images.amazon.com/images/P/0375815260.0...   \n",
       "41748  http://images.amazon.com/images/P/0140328696.0...   \n",
       "41749  http://images.amazon.com/images/P/0553244787.0...   \n",
       "41750  http://images.amazon.com/images/P/0553244787.0...   \n",
       "\n",
       "                                             Image-URL-L  year  User-ID  \\\n",
       "41680  http://images.amazon.com/images/P/0140328696.0...   NaN   197659   \n",
       "41681  http://images.amazon.com/images/P/0553150979.0...   NaN   113519   \n",
       "41682  http://images.amazon.com/images/P/0375815260.0...   NaN    79186   \n",
       "41683  http://images.amazon.com/images/P/0140328696.0...   NaN   101209   \n",
       "41684  http://images.amazon.com/images/P/0140328696.0...   NaN   105979   \n",
       "...                                                  ...   ...      ...   \n",
       "41746  http://images.amazon.com/images/P/0553150979.0...   NaN   106086   \n",
       "41747  http://images.amazon.com/images/P/0375815260.0...   NaN   146027   \n",
       "41748  http://images.amazon.com/images/P/0140328696.0...   NaN    71863   \n",
       "41749  http://images.amazon.com/images/P/0553244787.0...   NaN   139572   \n",
       "41750  http://images.amazon.com/images/P/0553244787.0...   NaN   164998   \n",
       "\n",
       "       Book-Rating                     Location        Age  \n",
       "41680            7   indiana, pennsylvania, usa  49.000000  \n",
       "41681            0  pleasanton, california, usa  34.746638  \n",
       "41682           10       fairbanks, alaska, usa  37.000000  \n",
       "41683            0    ft huachuca, arizona, usa  44.000000  \n",
       "41684            7     oakland, california, usa  26.000000  \n",
       "...            ...                          ...        ...  \n",
       "41746            0           austin, texas, usa   9.000000  \n",
       "41747            7      marshall, missouri, usa  34.746638  \n",
       "41748            9   westfield, new jersey, usa  34.746638  \n",
       "41749           10             ogden, utah, usa  34.746638  \n",
       "41750            8         union, nebraska, usa  34.746638  \n",
       "\n",
       "[71 rows x 14 columns]"
      ]
     },
     "execution_count": 41,
     "metadata": {},
     "output_type": "execute_result"
    }
   ],
   "source": [
    "df1 = data[data['Book-Title']==\"Charlie and the Chocolate Factory\"]#getting the details who read Charlie and the Chocolate Factory\n",
    "df1"
   ]
  },
  {
   "cell_type": "code",
   "execution_count": 42,
   "id": "9e44200e",
   "metadata": {
    "ExecuteTime": {
     "end_time": "2022-12-01T06:18:49.881219Z",
     "start_time": "2022-12-01T06:18:49.815020Z"
    }
   },
   "outputs": [
    {
     "data": {
      "text/html": [
       "<div>\n",
       "<style scoped>\n",
       "    .dataframe tbody tr th:only-of-type {\n",
       "        vertical-align: middle;\n",
       "    }\n",
       "\n",
       "    .dataframe tbody tr th {\n",
       "        vertical-align: top;\n",
       "    }\n",
       "\n",
       "    .dataframe thead th {\n",
       "        text-align: right;\n",
       "    }\n",
       "</style>\n",
       "<table border=\"1\" class=\"dataframe\">\n",
       "  <thead>\n",
       "    <tr style=\"text-align: right;\">\n",
       "      <th></th>\n",
       "      <th>Book-Title</th>\n",
       "      <th>Total-Rating</th>\n",
       "      <th>ISBN</th>\n",
       "      <th>Book-Author</th>\n",
       "      <th>Year-Of-Publication</th>\n",
       "      <th>Publisher</th>\n",
       "      <th>Image-URL-S</th>\n",
       "      <th>Image-URL-M</th>\n",
       "      <th>Image-URL-L</th>\n",
       "      <th>year</th>\n",
       "      <th>User-ID</th>\n",
       "      <th>Book-Rating</th>\n",
       "      <th>Location</th>\n",
       "      <th>Age</th>\n",
       "    </tr>\n",
       "  </thead>\n",
       "  <tbody>\n",
       "    <tr>\n",
       "      <th>122229</th>\n",
       "      <td>Matilda</td>\n",
       "      <td>130</td>\n",
       "      <td>014034294X</td>\n",
       "      <td>Roald Dahl</td>\n",
       "      <td>1990.0</td>\n",
       "      <td>Puffin Books</td>\n",
       "      <td>http://images.amazon.com/images/P/014034294X.0...</td>\n",
       "      <td>http://images.amazon.com/images/P/014034294X.0...</td>\n",
       "      <td>http://images.amazon.com/images/P/014034294X.0...</td>\n",
       "      <td>NaN</td>\n",
       "      <td>11676</td>\n",
       "      <td>0</td>\n",
       "      <td>n/a, n/a, n/a</td>\n",
       "      <td>34.746638</td>\n",
       "    </tr>\n",
       "    <tr>\n",
       "      <th>122230</th>\n",
       "      <td>Matilda</td>\n",
       "      <td>130</td>\n",
       "      <td>2070512541</td>\n",
       "      <td>Roald Dahl</td>\n",
       "      <td>2002.0</td>\n",
       "      <td>Contemporary French Fiction</td>\n",
       "      <td>http://images.amazon.com/images/P/2070512541.0...</td>\n",
       "      <td>http://images.amazon.com/images/P/2070512541.0...</td>\n",
       "      <td>http://images.amazon.com/images/P/2070512541.0...</td>\n",
       "      <td>NaN</td>\n",
       "      <td>11676</td>\n",
       "      <td>0</td>\n",
       "      <td>n/a, n/a, n/a</td>\n",
       "      <td>34.746638</td>\n",
       "    </tr>\n",
       "    <tr>\n",
       "      <th>122231</th>\n",
       "      <td>Matilda</td>\n",
       "      <td>130</td>\n",
       "      <td>014034294X</td>\n",
       "      <td>Roald Dahl</td>\n",
       "      <td>1990.0</td>\n",
       "      <td>Puffin Books</td>\n",
       "      <td>http://images.amazon.com/images/P/014034294X.0...</td>\n",
       "      <td>http://images.amazon.com/images/P/014034294X.0...</td>\n",
       "      <td>http://images.amazon.com/images/P/014034294X.0...</td>\n",
       "      <td>NaN</td>\n",
       "      <td>230522</td>\n",
       "      <td>0</td>\n",
       "      <td>colorado springs, colorado, usa</td>\n",
       "      <td>52.000000</td>\n",
       "    </tr>\n",
       "    <tr>\n",
       "      <th>122232</th>\n",
       "      <td>Matilda</td>\n",
       "      <td>130</td>\n",
       "      <td>014034294X</td>\n",
       "      <td>Roald Dahl</td>\n",
       "      <td>1990.0</td>\n",
       "      <td>Puffin Books</td>\n",
       "      <td>http://images.amazon.com/images/P/014034294X.0...</td>\n",
       "      <td>http://images.amazon.com/images/P/014034294X.0...</td>\n",
       "      <td>http://images.amazon.com/images/P/014034294X.0...</td>\n",
       "      <td>NaN</td>\n",
       "      <td>245827</td>\n",
       "      <td>5</td>\n",
       "      <td>albuquerque, ,</td>\n",
       "      <td>34.746638</td>\n",
       "    </tr>\n",
       "    <tr>\n",
       "      <th>122233</th>\n",
       "      <td>Matilda</td>\n",
       "      <td>130</td>\n",
       "      <td>0141301066</td>\n",
       "      <td>Roald Dahl</td>\n",
       "      <td>1998.0</td>\n",
       "      <td>Puffin Books</td>\n",
       "      <td>http://images.amazon.com/images/P/0141301066.0...</td>\n",
       "      <td>http://images.amazon.com/images/P/0141301066.0...</td>\n",
       "      <td>http://images.amazon.com/images/P/0141301066.0...</td>\n",
       "      <td>NaN</td>\n",
       "      <td>245827</td>\n",
       "      <td>5</td>\n",
       "      <td>albuquerque, ,</td>\n",
       "      <td>34.746638</td>\n",
       "    </tr>\n",
       "    <tr>\n",
       "      <th>...</th>\n",
       "      <td>...</td>\n",
       "      <td>...</td>\n",
       "      <td>...</td>\n",
       "      <td>...</td>\n",
       "      <td>...</td>\n",
       "      <td>...</td>\n",
       "      <td>...</td>\n",
       "      <td>...</td>\n",
       "      <td>...</td>\n",
       "      <td>...</td>\n",
       "      <td>...</td>\n",
       "      <td>...</td>\n",
       "      <td>...</td>\n",
       "      <td>...</td>\n",
       "    </tr>\n",
       "    <tr>\n",
       "      <th>122354</th>\n",
       "      <td>Matilda</td>\n",
       "      <td>130</td>\n",
       "      <td>0140327592</td>\n",
       "      <td>Roald Dahl</td>\n",
       "      <td>1990.0</td>\n",
       "      <td>Viking Penguin Inc</td>\n",
       "      <td>http://images.amazon.com/images/P/0140327592.0...</td>\n",
       "      <td>http://images.amazon.com/images/P/0140327592.0...</td>\n",
       "      <td>http://images.amazon.com/images/P/0140327592.0...</td>\n",
       "      <td>NaN</td>\n",
       "      <td>16923</td>\n",
       "      <td>6</td>\n",
       "      <td>salop, england, united kingdom</td>\n",
       "      <td>16.000000</td>\n",
       "    </tr>\n",
       "    <tr>\n",
       "      <th>122355</th>\n",
       "      <td>Matilda</td>\n",
       "      <td>130</td>\n",
       "      <td>0140327592</td>\n",
       "      <td>Roald Dahl</td>\n",
       "      <td>1990.0</td>\n",
       "      <td>Viking Penguin Inc</td>\n",
       "      <td>http://images.amazon.com/images/P/0140327592.0...</td>\n",
       "      <td>http://images.amazon.com/images/P/0140327592.0...</td>\n",
       "      <td>http://images.amazon.com/images/P/0140327592.0...</td>\n",
       "      <td>NaN</td>\n",
       "      <td>32490</td>\n",
       "      <td>0</td>\n",
       "      <td>canberra, australian capital territory, australia</td>\n",
       "      <td>15.000000</td>\n",
       "    </tr>\n",
       "    <tr>\n",
       "      <th>122356</th>\n",
       "      <td>Matilda</td>\n",
       "      <td>130</td>\n",
       "      <td>0140327592</td>\n",
       "      <td>Roald Dahl</td>\n",
       "      <td>1990.0</td>\n",
       "      <td>Viking Penguin Inc</td>\n",
       "      <td>http://images.amazon.com/images/P/0140327592.0...</td>\n",
       "      <td>http://images.amazon.com/images/P/0140327592.0...</td>\n",
       "      <td>http://images.amazon.com/images/P/0140327592.0...</td>\n",
       "      <td>NaN</td>\n",
       "      <td>103825</td>\n",
       "      <td>0</td>\n",
       "      <td>canberra, australian capital territory, australia</td>\n",
       "      <td>32.000000</td>\n",
       "    </tr>\n",
       "    <tr>\n",
       "      <th>122357</th>\n",
       "      <td>Matilda</td>\n",
       "      <td>130</td>\n",
       "      <td>0140327592</td>\n",
       "      <td>Roald Dahl</td>\n",
       "      <td>1990.0</td>\n",
       "      <td>Viking Penguin Inc</td>\n",
       "      <td>http://images.amazon.com/images/P/0140327592.0...</td>\n",
       "      <td>http://images.amazon.com/images/P/0140327592.0...</td>\n",
       "      <td>http://images.amazon.com/images/P/0140327592.0...</td>\n",
       "      <td>NaN</td>\n",
       "      <td>265695</td>\n",
       "      <td>9</td>\n",
       "      <td>norwich, england, united kingdom</td>\n",
       "      <td>23.000000</td>\n",
       "    </tr>\n",
       "    <tr>\n",
       "      <th>122358</th>\n",
       "      <td>Matilda</td>\n",
       "      <td>130</td>\n",
       "      <td>014037468X</td>\n",
       "      <td>Roald Dahl</td>\n",
       "      <td>1996.0</td>\n",
       "      <td>Puffin Books</td>\n",
       "      <td>http://images.amazon.com/images/P/014037468X.0...</td>\n",
       "      <td>http://images.amazon.com/images/P/014037468X.0...</td>\n",
       "      <td>http://images.amazon.com/images/P/014037468X.0...</td>\n",
       "      <td>NaN</td>\n",
       "      <td>89106</td>\n",
       "      <td>9</td>\n",
       "      <td>sydney, new york, australia</td>\n",
       "      <td>15.000000</td>\n",
       "    </tr>\n",
       "  </tbody>\n",
       "</table>\n",
       "<p>130 rows × 14 columns</p>\n",
       "</div>"
      ],
      "text/plain": [
       "       Book-Title  Total-Rating        ISBN Book-Author  Year-Of-Publication  \\\n",
       "122229    Matilda           130  014034294X  Roald Dahl               1990.0   \n",
       "122230    Matilda           130  2070512541  Roald Dahl               2002.0   \n",
       "122231    Matilda           130  014034294X  Roald Dahl               1990.0   \n",
       "122232    Matilda           130  014034294X  Roald Dahl               1990.0   \n",
       "122233    Matilda           130  0141301066  Roald Dahl               1998.0   \n",
       "...           ...           ...         ...         ...                  ...   \n",
       "122354    Matilda           130  0140327592  Roald Dahl               1990.0   \n",
       "122355    Matilda           130  0140327592  Roald Dahl               1990.0   \n",
       "122356    Matilda           130  0140327592  Roald Dahl               1990.0   \n",
       "122357    Matilda           130  0140327592  Roald Dahl               1990.0   \n",
       "122358    Matilda           130  014037468X  Roald Dahl               1996.0   \n",
       "\n",
       "                          Publisher  \\\n",
       "122229                 Puffin Books   \n",
       "122230  Contemporary French Fiction   \n",
       "122231                 Puffin Books   \n",
       "122232                 Puffin Books   \n",
       "122233                 Puffin Books   \n",
       "...                             ...   \n",
       "122354           Viking Penguin Inc   \n",
       "122355           Viking Penguin Inc   \n",
       "122356           Viking Penguin Inc   \n",
       "122357           Viking Penguin Inc   \n",
       "122358                 Puffin Books   \n",
       "\n",
       "                                              Image-URL-S  \\\n",
       "122229  http://images.amazon.com/images/P/014034294X.0...   \n",
       "122230  http://images.amazon.com/images/P/2070512541.0...   \n",
       "122231  http://images.amazon.com/images/P/014034294X.0...   \n",
       "122232  http://images.amazon.com/images/P/014034294X.0...   \n",
       "122233  http://images.amazon.com/images/P/0141301066.0...   \n",
       "...                                                   ...   \n",
       "122354  http://images.amazon.com/images/P/0140327592.0...   \n",
       "122355  http://images.amazon.com/images/P/0140327592.0...   \n",
       "122356  http://images.amazon.com/images/P/0140327592.0...   \n",
       "122357  http://images.amazon.com/images/P/0140327592.0...   \n",
       "122358  http://images.amazon.com/images/P/014037468X.0...   \n",
       "\n",
       "                                              Image-URL-M  \\\n",
       "122229  http://images.amazon.com/images/P/014034294X.0...   \n",
       "122230  http://images.amazon.com/images/P/2070512541.0...   \n",
       "122231  http://images.amazon.com/images/P/014034294X.0...   \n",
       "122232  http://images.amazon.com/images/P/014034294X.0...   \n",
       "122233  http://images.amazon.com/images/P/0141301066.0...   \n",
       "...                                                   ...   \n",
       "122354  http://images.amazon.com/images/P/0140327592.0...   \n",
       "122355  http://images.amazon.com/images/P/0140327592.0...   \n",
       "122356  http://images.amazon.com/images/P/0140327592.0...   \n",
       "122357  http://images.amazon.com/images/P/0140327592.0...   \n",
       "122358  http://images.amazon.com/images/P/014037468X.0...   \n",
       "\n",
       "                                              Image-URL-L  year  User-ID  \\\n",
       "122229  http://images.amazon.com/images/P/014034294X.0...   NaN    11676   \n",
       "122230  http://images.amazon.com/images/P/2070512541.0...   NaN    11676   \n",
       "122231  http://images.amazon.com/images/P/014034294X.0...   NaN   230522   \n",
       "122232  http://images.amazon.com/images/P/014034294X.0...   NaN   245827   \n",
       "122233  http://images.amazon.com/images/P/0141301066.0...   NaN   245827   \n",
       "...                                                   ...   ...      ...   \n",
       "122354  http://images.amazon.com/images/P/0140327592.0...   NaN    16923   \n",
       "122355  http://images.amazon.com/images/P/0140327592.0...   NaN    32490   \n",
       "122356  http://images.amazon.com/images/P/0140327592.0...   NaN   103825   \n",
       "122357  http://images.amazon.com/images/P/0140327592.0...   NaN   265695   \n",
       "122358  http://images.amazon.com/images/P/014037468X.0...   NaN    89106   \n",
       "\n",
       "        Book-Rating                                           Location  \\\n",
       "122229            0                                      n/a, n/a, n/a   \n",
       "122230            0                                      n/a, n/a, n/a   \n",
       "122231            0                    colorado springs, colorado, usa   \n",
       "122232            5                                     albuquerque, ,   \n",
       "122233            5                                     albuquerque, ,   \n",
       "...             ...                                                ...   \n",
       "122354            6                     salop, england, united kingdom   \n",
       "122355            0  canberra, australian capital territory, australia   \n",
       "122356            0  canberra, australian capital territory, australia   \n",
       "122357            9                   norwich, england, united kingdom   \n",
       "122358            9                        sydney, new york, australia   \n",
       "\n",
       "              Age  \n",
       "122229  34.746638  \n",
       "122230  34.746638  \n",
       "122231  52.000000  \n",
       "122232  34.746638  \n",
       "122233  34.746638  \n",
       "...           ...  \n",
       "122354  16.000000  \n",
       "122355  15.000000  \n",
       "122356  32.000000  \n",
       "122357  23.000000  \n",
       "122358  15.000000  \n",
       "\n",
       "[130 rows x 14 columns]"
      ]
     },
     "execution_count": 42,
     "metadata": {},
     "output_type": "execute_result"
    }
   ],
   "source": [
    "df2 = data[data['Book-Title']==\"Matilda\"]#getting the details who read Matilda\n",
    "df2"
   ]
  },
  {
   "cell_type": "code",
   "execution_count": 43,
   "id": "8e5f1983",
   "metadata": {
    "ExecuteTime": {
     "end_time": "2022-12-01T06:18:50.721954Z",
     "start_time": "2022-12-01T06:18:50.705969Z"
    }
   },
   "outputs": [],
   "source": [
    "x=set(df1[\"User-ID\"].values)#contain the userid of those who read Charlie and the chocolate factory\n",
    "y=set(df2[\"User-ID\"].values)#contain the userid of those who read matilda"
   ]
  },
  {
   "cell_type": "code",
   "execution_count": 44,
   "id": "081a7fa1",
   "metadata": {
    "ExecuteTime": {
     "end_time": "2022-12-01T06:18:52.216490Z",
     "start_time": "2022-12-01T06:18:52.193525Z"
    }
   },
   "outputs": [
    {
     "name": "stdout",
     "output_type": "stream",
     "text": [
      "{74689, 251394, 115490, 249628, 174791, 155495, 138441, 144555, 2766, 184532, 98741, 201526, 69078, 130554, 263163, 239004, 17950}\n"
     ]
    }
   ],
   "source": [
    "similar_users = x & y\n",
    "print(similar_users)"
   ]
  },
  {
   "cell_type": "code",
   "execution_count": 45,
   "id": "7d94deee",
   "metadata": {
    "ExecuteTime": {
     "end_time": "2022-12-01T06:18:53.132910Z",
     "start_time": "2022-12-01T06:18:53.094014Z"
    }
   },
   "outputs": [
    {
     "data": {
      "text/html": [
       "<div>\n",
       "<style scoped>\n",
       "    .dataframe tbody tr th:only-of-type {\n",
       "        vertical-align: middle;\n",
       "    }\n",
       "\n",
       "    .dataframe tbody tr th {\n",
       "        vertical-align: top;\n",
       "    }\n",
       "\n",
       "    .dataframe thead th {\n",
       "        text-align: right;\n",
       "    }\n",
       "</style>\n",
       "<table border=\"1\" class=\"dataframe\">\n",
       "  <thead>\n",
       "    <tr style=\"text-align: right;\">\n",
       "      <th></th>\n",
       "      <th>Book-Title</th>\n",
       "      <th>Total-Rating</th>\n",
       "      <th>ISBN</th>\n",
       "      <th>Book-Author</th>\n",
       "      <th>Year-Of-Publication</th>\n",
       "      <th>Publisher</th>\n",
       "      <th>Image-URL-S</th>\n",
       "      <th>Image-URL-M</th>\n",
       "      <th>Image-URL-L</th>\n",
       "      <th>year</th>\n",
       "      <th>User-ID</th>\n",
       "      <th>Book-Rating</th>\n",
       "      <th>Location</th>\n",
       "      <th>Age</th>\n",
       "    </tr>\n",
       "  </thead>\n",
       "  <tbody>\n",
       "    <tr>\n",
       "      <th>178669</th>\n",
       "      <td>Stormy Weather</td>\n",
       "      <td>103</td>\n",
       "      <td>0446677167</td>\n",
       "      <td>Carl Hiaasen</td>\n",
       "      <td>2001.0</td>\n",
       "      <td>Warner Books</td>\n",
       "      <td>http://images.amazon.com/images/P/0446677167.0...</td>\n",
       "      <td>http://images.amazon.com/images/P/0446677167.0...</td>\n",
       "      <td>http://images.amazon.com/images/P/0446677167.0...</td>\n",
       "      <td>NaN</td>\n",
       "      <td>74689</td>\n",
       "      <td>7</td>\n",
       "      <td>seattle, washington, usa</td>\n",
       "      <td>39.0</td>\n",
       "    </tr>\n",
       "    <tr>\n",
       "      <th>41736</th>\n",
       "      <td>Charlie and the Chocolate Factory</td>\n",
       "      <td>71</td>\n",
       "      <td>0140328696</td>\n",
       "      <td>Roald Dahl</td>\n",
       "      <td>1994.0</td>\n",
       "      <td>Puffin Books</td>\n",
       "      <td>http://images.amazon.com/images/P/0140328696.0...</td>\n",
       "      <td>http://images.amazon.com/images/P/0140328696.0...</td>\n",
       "      <td>http://images.amazon.com/images/P/0140328696.0...</td>\n",
       "      <td>NaN</td>\n",
       "      <td>74689</td>\n",
       "      <td>0</td>\n",
       "      <td>seattle, washington, usa</td>\n",
       "      <td>39.0</td>\n",
       "    </tr>\n",
       "    <tr>\n",
       "      <th>46510</th>\n",
       "      <td>Cold Mountain</td>\n",
       "      <td>194</td>\n",
       "      <td>0871136791</td>\n",
       "      <td>Charles Frazier</td>\n",
       "      <td>1997.0</td>\n",
       "      <td>Atlantic Monthly Press</td>\n",
       "      <td>http://images.amazon.com/images/P/0871136791.0...</td>\n",
       "      <td>http://images.amazon.com/images/P/0871136791.0...</td>\n",
       "      <td>http://images.amazon.com/images/P/0871136791.0...</td>\n",
       "      <td>NaN</td>\n",
       "      <td>74689</td>\n",
       "      <td>0</td>\n",
       "      <td>seattle, washington, usa</td>\n",
       "      <td>39.0</td>\n",
       "    </tr>\n",
       "    <tr>\n",
       "      <th>105454</th>\n",
       "      <td>Island of the Blue Dolphins (Laurel Leaf Books)</td>\n",
       "      <td>90</td>\n",
       "      <td>0440940001</td>\n",
       "      <td>Scott O'Dell</td>\n",
       "      <td>1978.0</td>\n",
       "      <td>Laure Leaf</td>\n",
       "      <td>http://images.amazon.com/images/P/0440940001.0...</td>\n",
       "      <td>http://images.amazon.com/images/P/0440940001.0...</td>\n",
       "      <td>http://images.amazon.com/images/P/0440940001.0...</td>\n",
       "      <td>NaN</td>\n",
       "      <td>74689</td>\n",
       "      <td>0</td>\n",
       "      <td>seattle, washington, usa</td>\n",
       "      <td>39.0</td>\n",
       "    </tr>\n",
       "    <tr>\n",
       "      <th>122319</th>\n",
       "      <td>Matilda</td>\n",
       "      <td>130</td>\n",
       "      <td>014034294X</td>\n",
       "      <td>Roald Dahl</td>\n",
       "      <td>1990.0</td>\n",
       "      <td>Puffin Books</td>\n",
       "      <td>http://images.amazon.com/images/P/014034294X.0...</td>\n",
       "      <td>http://images.amazon.com/images/P/014034294X.0...</td>\n",
       "      <td>http://images.amazon.com/images/P/014034294X.0...</td>\n",
       "      <td>NaN</td>\n",
       "      <td>74689</td>\n",
       "      <td>0</td>\n",
       "      <td>seattle, washington, usa</td>\n",
       "      <td>39.0</td>\n",
       "    </tr>\n",
       "  </tbody>\n",
       "</table>\n",
       "</div>"
      ],
      "text/plain": [
       "                                             Book-Title  Total-Rating  \\\n",
       "178669                                   Stormy Weather           103   \n",
       "41736                 Charlie and the Chocolate Factory            71   \n",
       "46510                                     Cold Mountain           194   \n",
       "105454  Island of the Blue Dolphins (Laurel Leaf Books)            90   \n",
       "122319                                          Matilda           130   \n",
       "\n",
       "              ISBN      Book-Author  Year-Of-Publication  \\\n",
       "178669  0446677167     Carl Hiaasen               2001.0   \n",
       "41736   0140328696       Roald Dahl               1994.0   \n",
       "46510   0871136791  Charles Frazier               1997.0   \n",
       "105454  0440940001     Scott O'Dell               1978.0   \n",
       "122319  014034294X       Roald Dahl               1990.0   \n",
       "\n",
       "                     Publisher  \\\n",
       "178669            Warner Books   \n",
       "41736             Puffin Books   \n",
       "46510   Atlantic Monthly Press   \n",
       "105454              Laure Leaf   \n",
       "122319            Puffin Books   \n",
       "\n",
       "                                              Image-URL-S  \\\n",
       "178669  http://images.amazon.com/images/P/0446677167.0...   \n",
       "41736   http://images.amazon.com/images/P/0140328696.0...   \n",
       "46510   http://images.amazon.com/images/P/0871136791.0...   \n",
       "105454  http://images.amazon.com/images/P/0440940001.0...   \n",
       "122319  http://images.amazon.com/images/P/014034294X.0...   \n",
       "\n",
       "                                              Image-URL-M  \\\n",
       "178669  http://images.amazon.com/images/P/0446677167.0...   \n",
       "41736   http://images.amazon.com/images/P/0140328696.0...   \n",
       "46510   http://images.amazon.com/images/P/0871136791.0...   \n",
       "105454  http://images.amazon.com/images/P/0440940001.0...   \n",
       "122319  http://images.amazon.com/images/P/014034294X.0...   \n",
       "\n",
       "                                              Image-URL-L  year  User-ID  \\\n",
       "178669  http://images.amazon.com/images/P/0446677167.0...   NaN    74689   \n",
       "41736   http://images.amazon.com/images/P/0140328696.0...   NaN    74689   \n",
       "46510   http://images.amazon.com/images/P/0871136791.0...   NaN    74689   \n",
       "105454  http://images.amazon.com/images/P/0440940001.0...   NaN    74689   \n",
       "122319  http://images.amazon.com/images/P/014034294X.0...   NaN    74689   \n",
       "\n",
       "        Book-Rating                  Location   Age  \n",
       "178669            7  seattle, washington, usa  39.0  \n",
       "41736             0  seattle, washington, usa  39.0  \n",
       "46510             0  seattle, washington, usa  39.0  \n",
       "105454            0  seattle, washington, usa  39.0  \n",
       "122319            0  seattle, washington, usa  39.0  "
      ]
     },
     "execution_count": 45,
     "metadata": {},
     "output_type": "execute_result"
    }
   ],
   "source": [
    "data[data[\"User-ID\"]==74689].sort_values('Book-Rating', ascending=False).head(5)"
   ]
  },
  {
   "cell_type": "code",
   "execution_count": 46,
   "id": "54c65b3d",
   "metadata": {
    "ExecuteTime": {
     "end_time": "2022-12-01T06:18:53.909244Z",
     "start_time": "2022-12-01T06:18:53.830023Z"
    },
    "scrolled": true
   },
   "outputs": [
    {
     "data": {
      "text/html": [
       "<div>\n",
       "<style scoped>\n",
       "    .dataframe tbody tr th:only-of-type {\n",
       "        vertical-align: middle;\n",
       "    }\n",
       "\n",
       "    .dataframe tbody tr th {\n",
       "        vertical-align: top;\n",
       "    }\n",
       "\n",
       "    .dataframe thead th {\n",
       "        text-align: right;\n",
       "    }\n",
       "</style>\n",
       "<table border=\"1\" class=\"dataframe\">\n",
       "  <thead>\n",
       "    <tr style=\"text-align: right;\">\n",
       "      <th></th>\n",
       "      <th>Book-Title</th>\n",
       "      <th>Total-Rating</th>\n",
       "      <th>ISBN</th>\n",
       "      <th>Book-Author</th>\n",
       "      <th>Year-Of-Publication</th>\n",
       "      <th>Publisher</th>\n",
       "      <th>Image-URL-S</th>\n",
       "      <th>Image-URL-M</th>\n",
       "      <th>Image-URL-L</th>\n",
       "      <th>year</th>\n",
       "      <th>User-ID</th>\n",
       "      <th>Book-Rating</th>\n",
       "      <th>Location</th>\n",
       "      <th>Age</th>\n",
       "    </tr>\n",
       "  </thead>\n",
       "  <tbody>\n",
       "    <tr>\n",
       "      <th>209091</th>\n",
       "      <td>The Fellowship of the Ring (The Lord of the Ri...</td>\n",
       "      <td>368</td>\n",
       "      <td>0345339703</td>\n",
       "      <td>J.R.R. TOLKIEN</td>\n",
       "      <td>1986.0</td>\n",
       "      <td>Del Rey</td>\n",
       "      <td>http://images.amazon.com/images/P/0345339703.0...</td>\n",
       "      <td>http://images.amazon.com/images/P/0345339703.0...</td>\n",
       "      <td>http://images.amazon.com/images/P/0345339703.0...</td>\n",
       "      <td>NaN</td>\n",
       "      <td>251394</td>\n",
       "      <td>10</td>\n",
       "      <td>portland, maine, usa</td>\n",
       "      <td>25.0</td>\n",
       "    </tr>\n",
       "    <tr>\n",
       "      <th>12201</th>\n",
       "      <td>A Wizard of Earthsea (Earthsea Trilogy, Book 1)</td>\n",
       "      <td>68</td>\n",
       "      <td>0553262505</td>\n",
       "      <td>URSULA K. LE GUIN</td>\n",
       "      <td>1984.0</td>\n",
       "      <td>Bantam</td>\n",
       "      <td>http://images.amazon.com/images/P/0553262505.0...</td>\n",
       "      <td>http://images.amazon.com/images/P/0553262505.0...</td>\n",
       "      <td>http://images.amazon.com/images/P/0553262505.0...</td>\n",
       "      <td>NaN</td>\n",
       "      <td>251394</td>\n",
       "      <td>10</td>\n",
       "      <td>portland, maine, usa</td>\n",
       "      <td>25.0</td>\n",
       "    </tr>\n",
       "    <tr>\n",
       "      <th>114946</th>\n",
       "      <td>Life of Pi</td>\n",
       "      <td>664</td>\n",
       "      <td>0156027321</td>\n",
       "      <td>Yann Martel</td>\n",
       "      <td>2003.0</td>\n",
       "      <td>Harvest Books</td>\n",
       "      <td>http://images.amazon.com/images/P/0156027321.0...</td>\n",
       "      <td>http://images.amazon.com/images/P/0156027321.0...</td>\n",
       "      <td>http://images.amazon.com/images/P/0156027321.0...</td>\n",
       "      <td>NaN</td>\n",
       "      <td>251394</td>\n",
       "      <td>10</td>\n",
       "      <td>portland, maine, usa</td>\n",
       "      <td>25.0</td>\n",
       "    </tr>\n",
       "    <tr>\n",
       "      <th>257184</th>\n",
       "      <td>The Thief Lord</td>\n",
       "      <td>124</td>\n",
       "      <td>043942089X</td>\n",
       "      <td>Cornelia Funke</td>\n",
       "      <td>2003.0</td>\n",
       "      <td>Chicken House</td>\n",
       "      <td>http://images.amazon.com/images/P/043942089X.0...</td>\n",
       "      <td>http://images.amazon.com/images/P/043942089X.0...</td>\n",
       "      <td>http://images.amazon.com/images/P/043942089X.0...</td>\n",
       "      <td>NaN</td>\n",
       "      <td>251394</td>\n",
       "      <td>9</td>\n",
       "      <td>portland, maine, usa</td>\n",
       "      <td>25.0</td>\n",
       "    </tr>\n",
       "    <tr>\n",
       "      <th>103060</th>\n",
       "      <td>Interpreter of Maladies</td>\n",
       "      <td>136</td>\n",
       "      <td>039592720X</td>\n",
       "      <td>Jhumpa Lahiri</td>\n",
       "      <td>1999.0</td>\n",
       "      <td>Houghton Mifflin Co</td>\n",
       "      <td>http://images.amazon.com/images/P/039592720X.0...</td>\n",
       "      <td>http://images.amazon.com/images/P/039592720X.0...</td>\n",
       "      <td>http://images.amazon.com/images/P/039592720X.0...</td>\n",
       "      <td>NaN</td>\n",
       "      <td>251394</td>\n",
       "      <td>9</td>\n",
       "      <td>portland, maine, usa</td>\n",
       "      <td>25.0</td>\n",
       "    </tr>\n",
       "  </tbody>\n",
       "</table>\n",
       "</div>"
      ],
      "text/plain": [
       "                                               Book-Title  Total-Rating  \\\n",
       "209091  The Fellowship of the Ring (The Lord of the Ri...           368   \n",
       "12201     A Wizard of Earthsea (Earthsea Trilogy, Book 1)            68   \n",
       "114946                                         Life of Pi           664   \n",
       "257184                                     The Thief Lord           124   \n",
       "103060                            Interpreter of Maladies           136   \n",
       "\n",
       "              ISBN        Book-Author  Year-Of-Publication  \\\n",
       "209091  0345339703     J.R.R. TOLKIEN               1986.0   \n",
       "12201   0553262505  URSULA K. LE GUIN               1984.0   \n",
       "114946  0156027321        Yann Martel               2003.0   \n",
       "257184  043942089X     Cornelia Funke               2003.0   \n",
       "103060  039592720X      Jhumpa Lahiri               1999.0   \n",
       "\n",
       "                  Publisher  \\\n",
       "209091              Del Rey   \n",
       "12201                Bantam   \n",
       "114946        Harvest Books   \n",
       "257184        Chicken House   \n",
       "103060  Houghton Mifflin Co   \n",
       "\n",
       "                                              Image-URL-S  \\\n",
       "209091  http://images.amazon.com/images/P/0345339703.0...   \n",
       "12201   http://images.amazon.com/images/P/0553262505.0...   \n",
       "114946  http://images.amazon.com/images/P/0156027321.0...   \n",
       "257184  http://images.amazon.com/images/P/043942089X.0...   \n",
       "103060  http://images.amazon.com/images/P/039592720X.0...   \n",
       "\n",
       "                                              Image-URL-M  \\\n",
       "209091  http://images.amazon.com/images/P/0345339703.0...   \n",
       "12201   http://images.amazon.com/images/P/0553262505.0...   \n",
       "114946  http://images.amazon.com/images/P/0156027321.0...   \n",
       "257184  http://images.amazon.com/images/P/043942089X.0...   \n",
       "103060  http://images.amazon.com/images/P/039592720X.0...   \n",
       "\n",
       "                                              Image-URL-L  year  User-ID  \\\n",
       "209091  http://images.amazon.com/images/P/0345339703.0...   NaN   251394   \n",
       "12201   http://images.amazon.com/images/P/0553262505.0...   NaN   251394   \n",
       "114946  http://images.amazon.com/images/P/0156027321.0...   NaN   251394   \n",
       "257184  http://images.amazon.com/images/P/043942089X.0...   NaN   251394   \n",
       "103060  http://images.amazon.com/images/P/039592720X.0...   NaN   251394   \n",
       "\n",
       "        Book-Rating              Location   Age  \n",
       "209091           10  portland, maine, usa  25.0  \n",
       "12201            10  portland, maine, usa  25.0  \n",
       "114946           10  portland, maine, usa  25.0  \n",
       "257184            9  portland, maine, usa  25.0  \n",
       "103060            9  portland, maine, usa  25.0  "
      ]
     },
     "execution_count": 46,
     "metadata": {},
     "output_type": "execute_result"
    }
   ],
   "source": [
    "data[data[\"User-ID\"]==251394].sort_values('Book-Rating', ascending=False).head(5)"
   ]
  },
  {
   "cell_type": "code",
   "execution_count": 47,
   "id": "443efd55",
   "metadata": {
    "ExecuteTime": {
     "end_time": "2022-12-01T06:18:55.044909Z",
     "start_time": "2022-12-01T06:18:54.999019Z"
    }
   },
   "outputs": [
    {
     "data": {
      "text/html": [
       "<div>\n",
       "<style scoped>\n",
       "    .dataframe tbody tr th:only-of-type {\n",
       "        vertical-align: middle;\n",
       "    }\n",
       "\n",
       "    .dataframe tbody tr th {\n",
       "        vertical-align: top;\n",
       "    }\n",
       "\n",
       "    .dataframe thead th {\n",
       "        text-align: right;\n",
       "    }\n",
       "</style>\n",
       "<table border=\"1\" class=\"dataframe\">\n",
       "  <thead>\n",
       "    <tr style=\"text-align: right;\">\n",
       "      <th></th>\n",
       "      <th>Book-Title</th>\n",
       "      <th>Total-Rating</th>\n",
       "      <th>ISBN</th>\n",
       "      <th>Book-Author</th>\n",
       "      <th>Year-Of-Publication</th>\n",
       "      <th>Publisher</th>\n",
       "      <th>Image-URL-S</th>\n",
       "      <th>Image-URL-M</th>\n",
       "      <th>Image-URL-L</th>\n",
       "      <th>year</th>\n",
       "      <th>User-ID</th>\n",
       "      <th>Book-Rating</th>\n",
       "      <th>Location</th>\n",
       "      <th>Age</th>\n",
       "    </tr>\n",
       "  </thead>\n",
       "  <tbody>\n",
       "    <tr>\n",
       "      <th>134347</th>\n",
       "      <td>Night</td>\n",
       "      <td>202</td>\n",
       "      <td>0553272535</td>\n",
       "      <td>Elie Wiesel</td>\n",
       "      <td>1982.0</td>\n",
       "      <td>Bantam Books</td>\n",
       "      <td>http://images.amazon.com/images/P/0553272535.0...</td>\n",
       "      <td>http://images.amazon.com/images/P/0553272535.0...</td>\n",
       "      <td>http://images.amazon.com/images/P/0553272535.0...</td>\n",
       "      <td>NaN</td>\n",
       "      <td>115490</td>\n",
       "      <td>10</td>\n",
       "      <td>dekalb, illinois, usa</td>\n",
       "      <td>34.746638</td>\n",
       "    </tr>\n",
       "    <tr>\n",
       "      <th>154220</th>\n",
       "      <td>Reading Lolita in Tehran: A Memoir in Books</td>\n",
       "      <td>99</td>\n",
       "      <td>081297106X</td>\n",
       "      <td>Azar Nafisi</td>\n",
       "      <td>2003.0</td>\n",
       "      <td>Random House Trade Paperbacks</td>\n",
       "      <td>http://images.amazon.com/images/P/081297106X.0...</td>\n",
       "      <td>http://images.amazon.com/images/P/081297106X.0...</td>\n",
       "      <td>http://images.amazon.com/images/P/081297106X.0...</td>\n",
       "      <td>NaN</td>\n",
       "      <td>115490</td>\n",
       "      <td>10</td>\n",
       "      <td>dekalb, illinois, usa</td>\n",
       "      <td>34.746638</td>\n",
       "    </tr>\n",
       "    <tr>\n",
       "      <th>257750</th>\n",
       "      <td>The Thorn Birds</td>\n",
       "      <td>227</td>\n",
       "      <td>0060129565</td>\n",
       "      <td>Colleen McCullough</td>\n",
       "      <td>1977.0</td>\n",
       "      <td>Harpercollins</td>\n",
       "      <td>http://images.amazon.com/images/P/0060129565.0...</td>\n",
       "      <td>http://images.amazon.com/images/P/0060129565.0...</td>\n",
       "      <td>http://images.amazon.com/images/P/0060129565.0...</td>\n",
       "      <td>NaN</td>\n",
       "      <td>115490</td>\n",
       "      <td>10</td>\n",
       "      <td>dekalb, illinois, usa</td>\n",
       "      <td>34.746638</td>\n",
       "    </tr>\n",
       "    <tr>\n",
       "      <th>159671</th>\n",
       "      <td>Rush Limbaugh Is a Big Fat Idiot: And Other Ob...</td>\n",
       "      <td>89</td>\n",
       "      <td>0385314744</td>\n",
       "      <td>Al Franken</td>\n",
       "      <td>1996.0</td>\n",
       "      <td>Delacorte Press</td>\n",
       "      <td>http://images.amazon.com/images/P/0385314744.0...</td>\n",
       "      <td>http://images.amazon.com/images/P/0385314744.0...</td>\n",
       "      <td>http://images.amazon.com/images/P/0385314744.0...</td>\n",
       "      <td>NaN</td>\n",
       "      <td>115490</td>\n",
       "      <td>10</td>\n",
       "      <td>dekalb, illinois, usa</td>\n",
       "      <td>34.746638</td>\n",
       "    </tr>\n",
       "    <tr>\n",
       "      <th>217098</th>\n",
       "      <td>The Handmaid's Tale</td>\n",
       "      <td>311</td>\n",
       "      <td>0449212602</td>\n",
       "      <td>Margaret Atwood</td>\n",
       "      <td>1989.0</td>\n",
       "      <td>Fawcett Books</td>\n",
       "      <td>http://images.amazon.com/images/P/0449212602.0...</td>\n",
       "      <td>http://images.amazon.com/images/P/0449212602.0...</td>\n",
       "      <td>http://images.amazon.com/images/P/0449212602.0...</td>\n",
       "      <td>NaN</td>\n",
       "      <td>115490</td>\n",
       "      <td>10</td>\n",
       "      <td>dekalb, illinois, usa</td>\n",
       "      <td>34.746638</td>\n",
       "    </tr>\n",
       "  </tbody>\n",
       "</table>\n",
       "</div>"
      ],
      "text/plain": [
       "                                               Book-Title  Total-Rating  \\\n",
       "134347                                              Night           202   \n",
       "154220        Reading Lolita in Tehran: A Memoir in Books            99   \n",
       "257750                                    The Thorn Birds           227   \n",
       "159671  Rush Limbaugh Is a Big Fat Idiot: And Other Ob...            89   \n",
       "217098                                The Handmaid's Tale           311   \n",
       "\n",
       "              ISBN         Book-Author  Year-Of-Publication  \\\n",
       "134347  0553272535         Elie Wiesel               1982.0   \n",
       "154220  081297106X         Azar Nafisi               2003.0   \n",
       "257750  0060129565  Colleen McCullough               1977.0   \n",
       "159671  0385314744          Al Franken               1996.0   \n",
       "217098  0449212602     Margaret Atwood               1989.0   \n",
       "\n",
       "                            Publisher  \\\n",
       "134347                   Bantam Books   \n",
       "154220  Random House Trade Paperbacks   \n",
       "257750                  Harpercollins   \n",
       "159671                Delacorte Press   \n",
       "217098                  Fawcett Books   \n",
       "\n",
       "                                              Image-URL-S  \\\n",
       "134347  http://images.amazon.com/images/P/0553272535.0...   \n",
       "154220  http://images.amazon.com/images/P/081297106X.0...   \n",
       "257750  http://images.amazon.com/images/P/0060129565.0...   \n",
       "159671  http://images.amazon.com/images/P/0385314744.0...   \n",
       "217098  http://images.amazon.com/images/P/0449212602.0...   \n",
       "\n",
       "                                              Image-URL-M  \\\n",
       "134347  http://images.amazon.com/images/P/0553272535.0...   \n",
       "154220  http://images.amazon.com/images/P/081297106X.0...   \n",
       "257750  http://images.amazon.com/images/P/0060129565.0...   \n",
       "159671  http://images.amazon.com/images/P/0385314744.0...   \n",
       "217098  http://images.amazon.com/images/P/0449212602.0...   \n",
       "\n",
       "                                              Image-URL-L  year  User-ID  \\\n",
       "134347  http://images.amazon.com/images/P/0553272535.0...   NaN   115490   \n",
       "154220  http://images.amazon.com/images/P/081297106X.0...   NaN   115490   \n",
       "257750  http://images.amazon.com/images/P/0060129565.0...   NaN   115490   \n",
       "159671  http://images.amazon.com/images/P/0385314744.0...   NaN   115490   \n",
       "217098  http://images.amazon.com/images/P/0449212602.0...   NaN   115490   \n",
       "\n",
       "        Book-Rating               Location        Age  \n",
       "134347           10  dekalb, illinois, usa  34.746638  \n",
       "154220           10  dekalb, illinois, usa  34.746638  \n",
       "257750           10  dekalb, illinois, usa  34.746638  \n",
       "159671           10  dekalb, illinois, usa  34.746638  \n",
       "217098           10  dekalb, illinois, usa  34.746638  "
      ]
     },
     "execution_count": 47,
     "metadata": {},
     "output_type": "execute_result"
    }
   ],
   "source": [
    "data[data[\"User-ID\"]==115490].sort_values('Book-Rating', ascending=False).head(5)"
   ]
  },
  {
   "cell_type": "code",
   "execution_count": 48,
   "id": "b041f0ec",
   "metadata": {
    "ExecuteTime": {
     "end_time": "2022-12-01T06:18:56.163953Z",
     "start_time": "2022-12-01T06:18:56.135032Z"
    }
   },
   "outputs": [
    {
     "data": {
      "text/html": [
       "<div>\n",
       "<style scoped>\n",
       "    .dataframe tbody tr th:only-of-type {\n",
       "        vertical-align: middle;\n",
       "    }\n",
       "\n",
       "    .dataframe tbody tr th {\n",
       "        vertical-align: top;\n",
       "    }\n",
       "\n",
       "    .dataframe thead th {\n",
       "        text-align: right;\n",
       "    }\n",
       "</style>\n",
       "<table border=\"1\" class=\"dataframe\">\n",
       "  <thead>\n",
       "    <tr style=\"text-align: right;\">\n",
       "      <th></th>\n",
       "      <th>Book-Title</th>\n",
       "      <th>Total-Rating</th>\n",
       "      <th>ISBN</th>\n",
       "      <th>Book-Author</th>\n",
       "      <th>Year-Of-Publication</th>\n",
       "      <th>Publisher</th>\n",
       "      <th>Image-URL-S</th>\n",
       "      <th>Image-URL-M</th>\n",
       "      <th>Image-URL-L</th>\n",
       "      <th>year</th>\n",
       "      <th>User-ID</th>\n",
       "      <th>Book-Rating</th>\n",
       "      <th>Location</th>\n",
       "      <th>Age</th>\n",
       "    </tr>\n",
       "  </thead>\n",
       "  <tbody>\n",
       "    <tr>\n",
       "      <th>88364</th>\n",
       "      <td>Harriet the Spy</td>\n",
       "      <td>80</td>\n",
       "      <td>0064403319</td>\n",
       "      <td>Louise Fitzhugh</td>\n",
       "      <td>1990.0</td>\n",
       "      <td>HarperTrophy</td>\n",
       "      <td>http://images.amazon.com/images/P/0064403319.0...</td>\n",
       "      <td>http://images.amazon.com/images/P/0064403319.0...</td>\n",
       "      <td>http://images.amazon.com/images/P/0064403319.0...</td>\n",
       "      <td>NaN</td>\n",
       "      <td>249628</td>\n",
       "      <td>10</td>\n",
       "      <td>whitney, texas, usa</td>\n",
       "      <td>51.0</td>\n",
       "    </tr>\n",
       "    <tr>\n",
       "      <th>247899</th>\n",
       "      <td>The Scottish Bride (Bride Trilogy (Paperback))</td>\n",
       "      <td>67</td>\n",
       "      <td>0515129933</td>\n",
       "      <td>Catherine Coulter</td>\n",
       "      <td>2001.0</td>\n",
       "      <td>Jove Books</td>\n",
       "      <td>http://images.amazon.com/images/P/0515129933.0...</td>\n",
       "      <td>http://images.amazon.com/images/P/0515129933.0...</td>\n",
       "      <td>http://images.amazon.com/images/P/0515129933.0...</td>\n",
       "      <td>NaN</td>\n",
       "      <td>249628</td>\n",
       "      <td>10</td>\n",
       "      <td>whitney, texas, usa</td>\n",
       "      <td>51.0</td>\n",
       "    </tr>\n",
       "    <tr>\n",
       "      <th>146638</th>\n",
       "      <td>Plainsong (Vintage Contemporaries)</td>\n",
       "      <td>156</td>\n",
       "      <td>0375705856</td>\n",
       "      <td>KENT HARUF</td>\n",
       "      <td>2000.0</td>\n",
       "      <td>Vintage</td>\n",
       "      <td>http://images.amazon.com/images/P/0375705856.0...</td>\n",
       "      <td>http://images.amazon.com/images/P/0375705856.0...</td>\n",
       "      <td>http://images.amazon.com/images/P/0375705856.0...</td>\n",
       "      <td>NaN</td>\n",
       "      <td>249628</td>\n",
       "      <td>10</td>\n",
       "      <td>whitney, texas, usa</td>\n",
       "      <td>51.0</td>\n",
       "    </tr>\n",
       "    <tr>\n",
       "      <th>14505</th>\n",
       "      <td>Adventures of Huckleberry Finn</td>\n",
       "      <td>81</td>\n",
       "      <td>0451523733</td>\n",
       "      <td>Mark Twain</td>\n",
       "      <td>1959.0</td>\n",
       "      <td>New Amer Library Classics</td>\n",
       "      <td>http://images.amazon.com/images/P/0451523733.0...</td>\n",
       "      <td>http://images.amazon.com/images/P/0451523733.0...</td>\n",
       "      <td>http://images.amazon.com/images/P/0451523733.0...</td>\n",
       "      <td>NaN</td>\n",
       "      <td>249628</td>\n",
       "      <td>10</td>\n",
       "      <td>whitney, texas, usa</td>\n",
       "      <td>51.0</td>\n",
       "    </tr>\n",
       "    <tr>\n",
       "      <th>88576</th>\n",
       "      <td>Harry Potter and the Chamber of Secrets (Book 2)</td>\n",
       "      <td>556</td>\n",
       "      <td>0439064872</td>\n",
       "      <td>J. K. Rowling</td>\n",
       "      <td>2000.0</td>\n",
       "      <td>Scholastic</td>\n",
       "      <td>http://images.amazon.com/images/P/0439064872.0...</td>\n",
       "      <td>http://images.amazon.com/images/P/0439064872.0...</td>\n",
       "      <td>http://images.amazon.com/images/P/0439064872.0...</td>\n",
       "      <td>NaN</td>\n",
       "      <td>249628</td>\n",
       "      <td>9</td>\n",
       "      <td>whitney, texas, usa</td>\n",
       "      <td>51.0</td>\n",
       "    </tr>\n",
       "  </tbody>\n",
       "</table>\n",
       "</div>"
      ],
      "text/plain": [
       "                                              Book-Title  Total-Rating  \\\n",
       "88364                                    Harriet the Spy            80   \n",
       "247899    The Scottish Bride (Bride Trilogy (Paperback))            67   \n",
       "146638                Plainsong (Vintage Contemporaries)           156   \n",
       "14505                     Adventures of Huckleberry Finn            81   \n",
       "88576   Harry Potter and the Chamber of Secrets (Book 2)           556   \n",
       "\n",
       "              ISBN        Book-Author  Year-Of-Publication  \\\n",
       "88364   0064403319    Louise Fitzhugh               1990.0   \n",
       "247899  0515129933  Catherine Coulter               2001.0   \n",
       "146638  0375705856         KENT HARUF               2000.0   \n",
       "14505   0451523733         Mark Twain               1959.0   \n",
       "88576   0439064872      J. K. Rowling               2000.0   \n",
       "\n",
       "                        Publisher  \\\n",
       "88364                HarperTrophy   \n",
       "247899                 Jove Books   \n",
       "146638                    Vintage   \n",
       "14505   New Amer Library Classics   \n",
       "88576                  Scholastic   \n",
       "\n",
       "                                              Image-URL-S  \\\n",
       "88364   http://images.amazon.com/images/P/0064403319.0...   \n",
       "247899  http://images.amazon.com/images/P/0515129933.0...   \n",
       "146638  http://images.amazon.com/images/P/0375705856.0...   \n",
       "14505   http://images.amazon.com/images/P/0451523733.0...   \n",
       "88576   http://images.amazon.com/images/P/0439064872.0...   \n",
       "\n",
       "                                              Image-URL-M  \\\n",
       "88364   http://images.amazon.com/images/P/0064403319.0...   \n",
       "247899  http://images.amazon.com/images/P/0515129933.0...   \n",
       "146638  http://images.amazon.com/images/P/0375705856.0...   \n",
       "14505   http://images.amazon.com/images/P/0451523733.0...   \n",
       "88576   http://images.amazon.com/images/P/0439064872.0...   \n",
       "\n",
       "                                              Image-URL-L  year  User-ID  \\\n",
       "88364   http://images.amazon.com/images/P/0064403319.0...   NaN   249628   \n",
       "247899  http://images.amazon.com/images/P/0515129933.0...   NaN   249628   \n",
       "146638  http://images.amazon.com/images/P/0375705856.0...   NaN   249628   \n",
       "14505   http://images.amazon.com/images/P/0451523733.0...   NaN   249628   \n",
       "88576   http://images.amazon.com/images/P/0439064872.0...   NaN   249628   \n",
       "\n",
       "        Book-Rating             Location   Age  \n",
       "88364            10  whitney, texas, usa  51.0  \n",
       "247899           10  whitney, texas, usa  51.0  \n",
       "146638           10  whitney, texas, usa  51.0  \n",
       "14505            10  whitney, texas, usa  51.0  \n",
       "88576             9  whitney, texas, usa  51.0  "
      ]
     },
     "execution_count": 48,
     "metadata": {},
     "output_type": "execute_result"
    }
   ],
   "source": [
    "data[data[\"User-ID\"]==249628].sort_values('Book-Rating', ascending=False).head(5)"
   ]
  },
  {
   "cell_type": "code",
   "execution_count": 49,
   "id": "35fdbd3a",
   "metadata": {
    "ExecuteTime": {
     "end_time": "2022-12-01T06:18:56.924943Z",
     "start_time": "2022-12-01T06:18:56.894023Z"
    }
   },
   "outputs": [
    {
     "data": {
      "text/html": [
       "<div>\n",
       "<style scoped>\n",
       "    .dataframe tbody tr th:only-of-type {\n",
       "        vertical-align: middle;\n",
       "    }\n",
       "\n",
       "    .dataframe tbody tr th {\n",
       "        vertical-align: top;\n",
       "    }\n",
       "\n",
       "    .dataframe thead th {\n",
       "        text-align: right;\n",
       "    }\n",
       "</style>\n",
       "<table border=\"1\" class=\"dataframe\">\n",
       "  <thead>\n",
       "    <tr style=\"text-align: right;\">\n",
       "      <th></th>\n",
       "      <th>Book-Title</th>\n",
       "      <th>Total-Rating</th>\n",
       "      <th>ISBN</th>\n",
       "      <th>Book-Author</th>\n",
       "      <th>Year-Of-Publication</th>\n",
       "      <th>Publisher</th>\n",
       "      <th>Image-URL-S</th>\n",
       "      <th>Image-URL-M</th>\n",
       "      <th>Image-URL-L</th>\n",
       "      <th>year</th>\n",
       "      <th>User-ID</th>\n",
       "      <th>Book-Rating</th>\n",
       "      <th>Location</th>\n",
       "      <th>Age</th>\n",
       "    </tr>\n",
       "  </thead>\n",
       "  <tbody>\n",
       "    <tr>\n",
       "      <th>258713</th>\n",
       "      <td>The Two Towers (The Lord of the Rings, Part 2)</td>\n",
       "      <td>260</td>\n",
       "      <td>0345339711</td>\n",
       "      <td>J.R.R. TOLKIEN</td>\n",
       "      <td>1986.0</td>\n",
       "      <td>Del Rey</td>\n",
       "      <td>http://images.amazon.com/images/P/0345339711.0...</td>\n",
       "      <td>http://images.amazon.com/images/P/0345339711.0...</td>\n",
       "      <td>http://images.amazon.com/images/P/0345339711.0...</td>\n",
       "      <td>NaN</td>\n",
       "      <td>174791</td>\n",
       "      <td>10</td>\n",
       "      <td>long beach, california, usa</td>\n",
       "      <td>38.0</td>\n",
       "    </tr>\n",
       "    <tr>\n",
       "      <th>248520</th>\n",
       "      <td>The Secret Garden</td>\n",
       "      <td>155</td>\n",
       "      <td>0440477093</td>\n",
       "      <td>Frances H. Burnett</td>\n",
       "      <td>1990.0</td>\n",
       "      <td>Yearling Books</td>\n",
       "      <td>http://images.amazon.com/images/P/0440477093.0...</td>\n",
       "      <td>http://images.amazon.com/images/P/0440477093.0...</td>\n",
       "      <td>http://images.amazon.com/images/P/0440477093.0...</td>\n",
       "      <td>NaN</td>\n",
       "      <td>174791</td>\n",
       "      <td>5</td>\n",
       "      <td>long beach, california, usa</td>\n",
       "      <td>38.0</td>\n",
       "    </tr>\n",
       "    <tr>\n",
       "      <th>5820</th>\n",
       "      <td>A Little Princess</td>\n",
       "      <td>65</td>\n",
       "      <td>0064401871</td>\n",
       "      <td>Frances Hodgson Burnett</td>\n",
       "      <td>1987.0</td>\n",
       "      <td>HarperTrophy</td>\n",
       "      <td>http://images.amazon.com/images/P/0064401871.0...</td>\n",
       "      <td>http://images.amazon.com/images/P/0064401871.0...</td>\n",
       "      <td>http://images.amazon.com/images/P/0064401871.0...</td>\n",
       "      <td>NaN</td>\n",
       "      <td>174791</td>\n",
       "      <td>0</td>\n",
       "      <td>long beach, california, usa</td>\n",
       "      <td>38.0</td>\n",
       "    </tr>\n",
       "    <tr>\n",
       "      <th>41697</th>\n",
       "      <td>Charlie and the Chocolate Factory</td>\n",
       "      <td>71</td>\n",
       "      <td>0553244787</td>\n",
       "      <td>Roald Dahl</td>\n",
       "      <td>0.0</td>\n",
       "      <td>Bantam Doubleday Dell</td>\n",
       "      <td>http://images.amazon.com/images/P/0553244787.0...</td>\n",
       "      <td>http://images.amazon.com/images/P/0553244787.0...</td>\n",
       "      <td>http://images.amazon.com/images/P/0553244787.0...</td>\n",
       "      <td>NaN</td>\n",
       "      <td>174791</td>\n",
       "      <td>0</td>\n",
       "      <td>long beach, california, usa</td>\n",
       "      <td>38.0</td>\n",
       "    </tr>\n",
       "    <tr>\n",
       "      <th>276417</th>\n",
       "      <td>Welcome to Dead House (Goosebumps, No 1)</td>\n",
       "      <td>57</td>\n",
       "      <td>0590453653</td>\n",
       "      <td>R. L. Stine</td>\n",
       "      <td>1995.0</td>\n",
       "      <td>Scholastic</td>\n",
       "      <td>http://images.amazon.com/images/P/0590453653.0...</td>\n",
       "      <td>http://images.amazon.com/images/P/0590453653.0...</td>\n",
       "      <td>http://images.amazon.com/images/P/0590453653.0...</td>\n",
       "      <td>NaN</td>\n",
       "      <td>174791</td>\n",
       "      <td>0</td>\n",
       "      <td>long beach, california, usa</td>\n",
       "      <td>38.0</td>\n",
       "    </tr>\n",
       "  </tbody>\n",
       "</table>\n",
       "</div>"
      ],
      "text/plain": [
       "                                            Book-Title  Total-Rating  \\\n",
       "258713  The Two Towers (The Lord of the Rings, Part 2)           260   \n",
       "248520                               The Secret Garden           155   \n",
       "5820                                 A Little Princess            65   \n",
       "41697                Charlie and the Chocolate Factory            71   \n",
       "276417        Welcome to Dead House (Goosebumps, No 1)            57   \n",
       "\n",
       "              ISBN              Book-Author  Year-Of-Publication  \\\n",
       "258713  0345339711           J.R.R. TOLKIEN               1986.0   \n",
       "248520  0440477093       Frances H. Burnett               1990.0   \n",
       "5820    0064401871  Frances Hodgson Burnett               1987.0   \n",
       "41697   0553244787               Roald Dahl                  0.0   \n",
       "276417  0590453653              R. L. Stine               1995.0   \n",
       "\n",
       "                    Publisher  \\\n",
       "258713                Del Rey   \n",
       "248520         Yearling Books   \n",
       "5820             HarperTrophy   \n",
       "41697   Bantam Doubleday Dell   \n",
       "276417             Scholastic   \n",
       "\n",
       "                                              Image-URL-S  \\\n",
       "258713  http://images.amazon.com/images/P/0345339711.0...   \n",
       "248520  http://images.amazon.com/images/P/0440477093.0...   \n",
       "5820    http://images.amazon.com/images/P/0064401871.0...   \n",
       "41697   http://images.amazon.com/images/P/0553244787.0...   \n",
       "276417  http://images.amazon.com/images/P/0590453653.0...   \n",
       "\n",
       "                                              Image-URL-M  \\\n",
       "258713  http://images.amazon.com/images/P/0345339711.0...   \n",
       "248520  http://images.amazon.com/images/P/0440477093.0...   \n",
       "5820    http://images.amazon.com/images/P/0064401871.0...   \n",
       "41697   http://images.amazon.com/images/P/0553244787.0...   \n",
       "276417  http://images.amazon.com/images/P/0590453653.0...   \n",
       "\n",
       "                                              Image-URL-L  year  User-ID  \\\n",
       "258713  http://images.amazon.com/images/P/0345339711.0...   NaN   174791   \n",
       "248520  http://images.amazon.com/images/P/0440477093.0...   NaN   174791   \n",
       "5820    http://images.amazon.com/images/P/0064401871.0...   NaN   174791   \n",
       "41697   http://images.amazon.com/images/P/0553244787.0...   NaN   174791   \n",
       "276417  http://images.amazon.com/images/P/0590453653.0...   NaN   174791   \n",
       "\n",
       "        Book-Rating                     Location   Age  \n",
       "258713           10  long beach, california, usa  38.0  \n",
       "248520            5  long beach, california, usa  38.0  \n",
       "5820              0  long beach, california, usa  38.0  \n",
       "41697             0  long beach, california, usa  38.0  \n",
       "276417            0  long beach, california, usa  38.0  "
      ]
     },
     "execution_count": 49,
     "metadata": {},
     "output_type": "execute_result"
    }
   ],
   "source": [
    "data[data[\"User-ID\"]==174791].sort_values('Book-Rating', ascending=False).head(5)"
   ]
  },
  {
   "cell_type": "markdown",
   "id": "22fd8241",
   "metadata": {},
   "source": [
    "#taking similiar user-id (who has read and given the book good rating)(74689, 251394, 115490, 249628, 174791) the following are the books"
   ]
  },
  {
   "cell_type": "code",
   "execution_count": 50,
   "id": "6ce3466e",
   "metadata": {
    "ExecuteTime": {
     "end_time": "2022-12-01T06:19:07.647361Z",
     "start_time": "2022-12-01T06:19:07.638371Z"
    }
   },
   "outputs": [],
   "source": [
    "list = ('Stormy Weather','Charlie and the Chocolate Factory' , 'The Fellowship of the Ring (The Lord of the Rings, Part 1)' ,'A Wizard of Earthsea (Earthsea Trilogy, Book 1)','Reading Lolita in Tehran: A Memoir in Books' , 'Night' , 'Harriet the Spy' , 'The Scottish Bride (Bride Trilogy (Paperback))','The Two Towers (The Lord of the Rings, Part 2)' , 'The Secret Garden')"
   ]
  },
  {
   "cell_type": "code",
   "execution_count": 51,
   "id": "c485752c",
   "metadata": {
    "ExecuteTime": {
     "end_time": "2022-12-01T06:19:08.438981Z",
     "start_time": "2022-12-01T06:19:08.422027Z"
    }
   },
   "outputs": [
    {
     "data": {
      "text/plain": [
       "('Stormy Weather',\n",
       " 'Charlie and the Chocolate Factory',\n",
       " 'The Fellowship of the Ring (The Lord of the Rings, Part 1)',\n",
       " 'A Wizard of Earthsea (Earthsea Trilogy, Book 1)',\n",
       " 'Reading Lolita in Tehran: A Memoir in Books',\n",
       " 'Night',\n",
       " 'Harriet the Spy',\n",
       " 'The Scottish Bride (Bride Trilogy (Paperback))',\n",
       " 'The Two Towers (The Lord of the Rings, Part 2)',\n",
       " 'The Secret Garden')"
      ]
     },
     "execution_count": 51,
     "metadata": {},
     "output_type": "execute_result"
    }
   ],
   "source": [
    "#Top 10 books\n",
    "list"
   ]
  },
  {
   "cell_type": "code",
   "execution_count": 52,
   "id": "5f2ed041",
   "metadata": {
    "ExecuteTime": {
     "end_time": "2022-12-01T06:19:09.201035Z",
     "start_time": "2022-12-01T06:19:09.190037Z"
    }
   },
   "outputs": [],
   "source": [
    "import pickle"
   ]
  },
  {
   "cell_type": "code",
   "execution_count": 53,
   "id": "1ddee150",
   "metadata": {
    "ExecuteTime": {
     "end_time": "2022-12-01T06:19:14.376220Z",
     "start_time": "2022-12-01T06:19:10.263014Z"
    }
   },
   "outputs": [],
   "source": [
    "pickle.dump(df,open(\"df.pkl\",\"wb\"))"
   ]
  },
  {
   "cell_type": "code",
   "execution_count": 54,
   "id": "f2fb3b2d",
   "metadata": {
    "ExecuteTime": {
     "end_time": "2022-12-01T06:19:14.391726Z",
     "start_time": "2022-12-01T06:19:14.379757Z"
    }
   },
   "outputs": [],
   "source": [
    "pickle.dump(model,open(\"model.pkl\",\"wb\"))"
   ]
  },
  {
   "cell_type": "code",
   "execution_count": 55,
   "id": "8d87d1e0",
   "metadata": {
    "ExecuteTime": {
     "end_time": "2022-12-01T06:19:14.923432Z",
     "start_time": "2022-12-01T06:19:14.398705Z"
    }
   },
   "outputs": [],
   "source": [
    "pickle.dump(data,open(\"data.pkl\",\"wb\"))"
   ]
  },
  {
   "cell_type": "code",
   "execution_count": 56,
   "id": "bc432b6e",
   "metadata": {
    "ExecuteTime": {
     "end_time": "2022-12-01T06:20:02.716053Z",
     "start_time": "2022-12-01T06:20:01.155044Z"
    }
   },
   "outputs": [],
   "source": [
    "import streamlit as st "
   ]
  },
  {
   "cell_type": "code",
   "execution_count": null,
   "id": "d725bc6f",
   "metadata": {},
   "outputs": [],
   "source": []
  }
 ],
 "metadata": {
  "kernelspec": {
   "display_name": "Python 3 (ipykernel)",
   "language": "python",
   "name": "python3"
  },
  "language_info": {
   "codemirror_mode": {
    "name": "ipython",
    "version": 3
   },
   "file_extension": ".py",
   "mimetype": "text/x-python",
   "name": "python",
   "nbconvert_exporter": "python",
   "pygments_lexer": "ipython3",
   "version": "3.9.12"
  },
  "papermill": {
   "default_parameters": {},
   "duration": 44.952669,
   "end_time": "2021-06-22T07:08:27.252699",
   "environment_variables": {},
   "exception": null,
   "input_path": "__notebook__.ipynb",
   "output_path": "__notebook__.ipynb",
   "parameters": {},
   "start_time": "2021-06-22T07:07:42.300030",
   "version": "2.3.3"
  }
 },
 "nbformat": 4,
 "nbformat_minor": 5
}
